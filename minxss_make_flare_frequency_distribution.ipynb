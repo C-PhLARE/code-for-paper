{
 "cells": [
  {
   "cell_type": "code",
   "execution_count": 2,
   "metadata": {
    "pycharm": {
     "name": "#%%\n"
    }
   },
   "outputs": [
    {
     "name": "stderr",
     "output_type": "stream",
     "text": [
      "/var/folders/vm/nfh3cfj106121z2ph22yffx40000gq/T/ipykernel_41416/991110439.py:2: DeprecationWarning: Please use `readsav` from the `scipy.io` namespace, the `scipy.io.idl` namespace is deprecated.\n",
      "  from scipy.io.idl import readsav\n"
     ]
    }
   ],
   "source": [
    "import numpy as np\n",
    "import pandas as pd\n",
    "from scipy.io.idl import readsav\n",
    "import matplotlib as mpl\n",
    "import matplotlib.pyplot as plt\n",
    "import astropy.units as u\n",
    "from astropy.constants import astropyconst20 as const\n",
    "from astropy.time import Time"
   ]
  },
  {
   "cell_type": "markdown",
   "metadata": {
    "pycharm": {
     "name": "#%% md\n"
    }
   },
   "source": [
    "# Integrating away the MinXSS data denominators"
   ]
  },
  {
   "cell_type": "markdown",
   "metadata": {
    "pycharm": {
     "name": "#%% md\n"
    }
   },
   "source": [
    "We'll define some functions to handle integrating across the MinXSS science data, which are in photons / s / cm2 / keV. These first two functions will remove the /keV and /s, respectively. Then we create a function to account for the fact that we took these measurements at 1 AU, which gets rid of the /cm2."
   ]
  },
  {
   "cell_type": "code",
   "execution_count": 3,
   "metadata": {
    "pycharm": {
     "name": "#%%\n"
    }
   },
   "outputs": [],
   "source": [
    "def integrate_spectrum_energy(spectral_irradiance, energy):\n",
    "    #energy_threshold = 1.5  # [keV]; below this, data is noise-dominated\n",
    "    #spectral_irradiance = spectral_irradiance[:, energy > energy_threshold]\n",
    "    #energy = energy[energy > energy_threshold]\n",
    "    irradiance_masked = np.ma.array(spectral_irradiance, mask=np.isnan(spectral_irradiance))  # Causes the units to get dropped\n",
    "    return np.trapz(irradiance_masked, energy)\n",
    "\n",
    "\n",
    "def integrate_spectrum_time(irradiance, time_jd):\n",
    "    time_seconds = (time_jd - time_jd[0]) * 86400 * u.second\n",
    "    return np.trapz(irradiance, time_seconds)\n",
    "\n",
    "\n",
    "def integrate_photon_flux_1au(fluxes):\n",
    "    try:\n",
    "        result = [flux * 4 * np.pi * ((1*u.AU).to(u.cm))**2 for flux in fluxes]\n",
    "    except TypeError:\n",
    "        result = fluxes * 4 * np.pi * ((1*u.AU).to(u.cm))**2\n",
    "    return result"
   ]
  },
  {
   "cell_type": "markdown",
   "metadata": {
    "pycharm": {
     "name": "#%% md\n"
    }
   },
   "source": [
    "# Convenience functions"
   ]
  },
  {
   "cell_type": "code",
   "execution_count": 4,
   "metadata": {
    "pycharm": {
     "name": "#%%\n"
    }
   },
   "outputs": [],
   "source": [
    "def extract_time_jd(minxsslevel1):\n",
    "    return np.array([minxsslevel1['time'][i]['jd'][0] for i in range(len(minxsslevel1))])\n",
    "\n",
    "def minxss_near_flare_peak(minxss_time_jd, goes_peak_time_jd, tolerance_pm_minutes=5):\n",
    "    tolerance_fraction_of_day = tolerance_pm_minutes / 1440\n",
    "    array = np.asarray(minxss_time_jd)\n",
    "    idx = (np.abs(minxss_time_jd - goes_peak_time_jd)).argmin()\n",
    "    if np.abs(minxss_time_jd[idx] - goes_peak_time_jd) <= tolerance_fraction_of_day:\n",
    "        return idx\n",
    "    else:\n",
    "        return np.nan\n",
    "\n",
    "def convert_photons_to_energy(energy, photons):\n",
    "    energy_erg = u.keV.to(u.erg, energy) * (u.erg/u.photon)\n",
    "    try:\n",
    "        result = [photon * energy_erg for photon in photons]\n",
    "    except TypeError:\n",
    "        result = photons * energy_erg\n",
    "    return result\n",
    "\n",
    "\n",
    "def convert_kev_to_angstrom(kev):\n",
    "    wave = const.h.to('keV s') * const.c / kev\n",
    "    wave = wave.to('angstrom')\n",
    "    return wave"
   ]
  },
  {
   "cell_type": "markdown",
   "metadata": {
    "pycharm": {
     "name": "#%% md\n"
    }
   },
   "source": [
    "# Read data"
   ]
  },
  {
   "cell_type": "code",
   "execution_count": 5,
   "metadata": {
    "pycharm": {
     "name": "#%%\n"
    }
   },
   "outputs": [
    {
     "name": "stdout",
     "output_type": "stream",
     "text": [
      "CPU times: user 25.8 s, sys: 3.09 s, total: 28.9 s\n",
      "Wall time: 29.9 s\n"
     ]
    }
   ],
   "source": [
    "%%time\n",
    "data_path = '/Users/masonjp2/Dropbox/minxss_dropbox/data/fm1/level1/'\n",
    "data = readsav('{}minxss1_l1_mission_length_v4.0.0.sav'.format(data_path))\n",
    "minxsslevel1 = data.minxsslevel1.x123[0].copy()\n",
    "spectral_irradiance = np.stack(minxsslevel1['irradiance']) * (u.photon / u.second / u.centimeter**2 / u.keV)\n",
    "time_jd = extract_time_jd(minxsslevel1)\n",
    "energy = minxsslevel1[0]['energy']\n",
    "wavelengths = convert_kev_to_angstrom(energy * u.keV)\n",
    "goes_long_wave_indices = np.where((wavelengths.value >= 1) & (wavelengths.value <= 8))[0]\n",
    "energy_long = energy[goes_long_wave_indices]\n",
    "\n",
    "goes_events_path = '/Users/masonjp2/Dropbox/Research/Data/GOES/events/'\n",
    "data_goes = readsav('{}GOES_events_MinXSS1_era.sav'.format(goes_events_path))\n",
    "goes_events = data_goes.goesevents.copy()\n",
    "goes_start_jd = goes_events['eventstarttimejd']\n",
    "goes_peak_jd = goes_events['eventpeaktimejd']\n",
    "goes_end_jd = goes_start_jd + 1/24  # Nearly all flares are << 1 hour. The post-flare time intensity is much smaller and will add little to the time-integrated value"
   ]
  },
  {
   "attachments": {},
   "cell_type": "markdown",
   "metadata": {
    "pycharm": {
     "name": "#%% md\n"
    }
   },
   "source": [
    "# Energy for 3 select flares, corresponding to CPHLARE events (subset of GOES events) -- spot checking"
   ]
  },
  {
   "cell_type": "code",
   "execution_count": 13,
   "metadata": {},
   "outputs": [],
   "source": [
    "def flare_total_energy(flare_spectral_irradiance, preflare_spectral_irradiance, flare_mask, preflare_mask): \n",
    "    flare_spectral_irradiance_erg = convert_photons_to_energy(energy_long, flare_spectral_irradiance[:, goes_long_wave_indices])\n",
    "    preflare_spectral_irradiance_erg = convert_photons_to_energy(energy_long, preflare_spectral_irradiance[:, goes_long_wave_indices])\n",
    "    irradiance = integrate_spectrum_energy(flare_spectral_irradiance_erg, energy_long) * (u.erg / u.second / u.centimeter**2)\n",
    "    preflare_irradiances = integrate_spectrum_energy(preflare_spectral_irradiance_erg, energy_long) * (u.erg / u.second / u.centimeter**2)\n",
    "    preflare_irradiance = np.median(preflare_irradiances)\n",
    "    flare_irradiance = (irradiance.value - preflare_irradiance.value) * irradiance.unit\n",
    "    erg_flux = integrate_spectrum_time(flare_irradiance, time_jd[flare_mask])\n",
    "    total_energy = integrate_photon_flux_1au(erg_flux)\n",
    "    return total_energy"
   ]
  },
  {
   "cell_type": "code",
   "execution_count": 14,
   "metadata": {},
   "outputs": [
    {
     "name": "stdout",
     "output_type": "stream",
     "text": [
      "6.312590996753241e+28 erg\n",
      "7.807249092757888e+27 erg\n",
      "1.6325161860519202e+28 erg\n"
     ]
    }
   ],
   "source": [
    "\n",
    "\n",
    "# Grab data for 3 MinXSS flares also observed by CPHLARE class work looking at GOES flares\n",
    "flare1_peak_time = '2016-07-24 06:20:00Z'\n",
    "flare2_peak_time = '2016-11-29 07:10:00Z'\n",
    "flare3_peak_time = '2017-02-22 13:27:00Z'\n",
    "flare1_mask = (time_jd >= Time('2016-07-24 05:50:00Z').jd) & (time_jd <= Time('2016-07-24 07:15:00Z').jd)\n",
    "flare2_mask = (time_jd >= Time('2016-11-29 07:05:00Z').jd) & (time_jd <= Time('2016-11-29 07:29:00Z').jd)\n",
    "flare3_mask = (time_jd >= Time('2017-02-22 12:59:00Z').jd) & (time_jd <= Time('2017-02-22 14:26:00Z').jd)\n",
    "preflare1_mask = (time_jd >= Time('2016-07-24 05:45:00Z').jd) & (time_jd <= Time('2016-07-24 05:59:00Z').jd)\n",
    "preflare2_mask = (time_jd >= Time('2016-11-29 06:00:00Z').jd) & (time_jd <= Time('2016-11-29 07:05:00Z').jd)\n",
    "preflare3_mask = (time_jd >= Time('2017-02-22 12:30:00Z').jd) & (time_jd <= Time('2017-02-22 12:59:00Z').jd)\n",
    "\n",
    "flare1_spectral_irradiance = spectral_irradiance[flare1_mask, :]\n",
    "flare2_spectral_irradiance = spectral_irradiance[flare2_mask, :]\n",
    "flare3_spectral_irradiance = spectral_irradiance[flare3_mask, :]\n",
    "preflare1_spectral_irradiance = spectral_irradiance[preflare1_mask, :]\n",
    "preflare2_spectral_irradiance = spectral_irradiance[preflare2_mask, :]\n",
    "preflare3_spectral_irradiance = spectral_irradiance[preflare3_mask, :]\n",
    "\n",
    "print(flare_total_energy(flare1_spectral_irradiance, preflare1_spectral_irradiance, flare1_mask, preflare1_mask))\n",
    "print(flare_total_energy(flare2_spectral_irradiance, preflare2_spectral_irradiance, flare2_mask, preflare2_mask))\n",
    "print(flare_total_energy(flare3_spectral_irradiance, preflare3_spectral_irradiance, flare3_mask, preflare3_mask))"
   ]
  },
  {
   "cell_type": "code",
   "execution_count": null,
   "metadata": {},
   "outputs": [],
   "source": []
  }
 ],
 "metadata": {
  "kernelspec": {
   "display_name": "Python 3.10.5 ('ffd_minxss')",
   "language": "python",
   "name": "python3"
  },
  "language_info": {
   "codemirror_mode": {
    "name": "ipython",
    "version": 3
   },
   "file_extension": ".py",
   "mimetype": "text/x-python",
   "name": "python",
   "nbconvert_exporter": "python",
   "pygments_lexer": "ipython3",
   "version": "3.10.5 | packaged by conda-forge | (main, Jun 14 2022, 07:03:09) [Clang 13.0.1 ]"
  },
  "vscode": {
   "interpreter": {
    "hash": "880d47705b30b70e5e632f071576eb39f0207409aae8652922ea9e8c421fe694"
   }
  }
 },
 "nbformat": 4,
 "nbformat_minor": 4
}
