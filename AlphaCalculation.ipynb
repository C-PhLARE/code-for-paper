{
  "cells": [
    {
      "cell_type": "code",
      "execution_count": null,
      "metadata": {
        "colab": {
          "base_uri": "https://localhost:8080/"
        },
        "id": "HpAc7YWCdnr4",
        "outputId": "6e69c3d6-c278-451a-f350-c191b4d1a0ae"
      },
      "outputs": [
        {
          "output_type": "stream",
          "name": "stdout",
          "text": [
            "Looking in indexes: https://pypi.org/simple, https://us-python.pkg.dev/colab-wheels/public/simple/\n",
            "Collecting git+https://github.com/allisony/lyapy\n",
            "  Cloning https://github.com/allisony/lyapy to /tmp/pip-req-build-me9chjb2\n",
            "  Running command git clone --filter=blob:none --quiet https://github.com/allisony/lyapy /tmp/pip-req-build-me9chjb2\n",
            "  Resolved https://github.com/allisony/lyapy to commit 159707c6aa8090f070b20ee24d6fe6799b5a52c4\n",
            "  Installing build dependencies ... \u001b[?25l\u001b[?25hdone\n",
            "  Getting requirements to build wheel ... \u001b[?25l\u001b[?25hdone\n",
            "  Preparing metadata (pyproject.toml) ... \u001b[?25l\u001b[?25hdone\n",
            "Building wheels for collected packages: lyapy-allisony\n",
            "  Building wheel for lyapy-allisony (pyproject.toml) ... \u001b[?25l\u001b[?25hdone\n",
            "  Created wheel for lyapy-allisony: filename=lyapy_allisony-0.0.1-py3-none-any.whl size=55817 sha256=409628f4598090de73ce92c73d632b546054a9545eb64fb4b19bdbd4a11482d6\n",
            "  Stored in directory: /tmp/pip-ephem-wheel-cache-6qh1mpmy/wheels/68/d7/b6/c4dcadbf0c7b7426daccbab90db2c63696ce14adc8602bbc77\n",
            "Successfully built lyapy-allisony\n",
            "Installing collected packages: lyapy-allisony\n",
            "Successfully installed lyapy-allisony-0.0.1\n",
            "Looking in indexes: https://pypi.org/simple, https://us-python.pkg.dev/colab-wheels/public/simple/\n",
            "Collecting emcee\n",
            "  Downloading emcee-3.1.4-py2.py3-none-any.whl (46 kB)\n",
            "\u001b[2K     \u001b[90m━━━━━━━━━━━━━━━━━━━━━━━━━━━━━━━━━━━━━━━━\u001b[0m \u001b[32m46.2/46.2 KB\u001b[0m \u001b[31m5.7 MB/s\u001b[0m eta \u001b[36m0:00:00\u001b[0m\n",
            "\u001b[?25hRequirement already satisfied: numpy in /usr/local/lib/python3.8/dist-packages (from emcee) (1.21.6)\n",
            "Installing collected packages: emcee\n",
            "Successfully installed emcee-3.1.4\n",
            "Looking in indexes: https://pypi.org/simple, https://us-python.pkg.dev/colab-wheels/public/simple/\n",
            "Collecting corner\n",
            "  Downloading corner-2.2.1-py3-none-any.whl (15 kB)\n",
            "Requirement already satisfied: matplotlib>=2.1 in /usr/local/lib/python3.8/dist-packages (from corner) (3.2.2)\n",
            "Requirement already satisfied: cycler>=0.10 in /usr/local/lib/python3.8/dist-packages (from matplotlib>=2.1->corner) (0.11.0)\n",
            "Requirement already satisfied: python-dateutil>=2.1 in /usr/local/lib/python3.8/dist-packages (from matplotlib>=2.1->corner) (2.8.2)\n",
            "Requirement already satisfied: pyparsing!=2.0.4,!=2.1.2,!=2.1.6,>=2.0.1 in /usr/local/lib/python3.8/dist-packages (from matplotlib>=2.1->corner) (3.0.9)\n",
            "Requirement already satisfied: kiwisolver>=1.0.1 in /usr/local/lib/python3.8/dist-packages (from matplotlib>=2.1->corner) (1.4.4)\n",
            "Requirement already satisfied: numpy>=1.11 in /usr/local/lib/python3.8/dist-packages (from matplotlib>=2.1->corner) (1.21.6)\n",
            "Requirement already satisfied: six>=1.5 in /usr/local/lib/python3.8/dist-packages (from python-dateutil>=2.1->matplotlib>=2.1->corner) (1.15.0)\n",
            "Installing collected packages: corner\n",
            "Successfully installed corner-2.2.1\n",
            "Looking in indexes: https://pypi.org/simple, https://us-python.pkg.dev/colab-wheels/public/simple/\n",
            "Collecting powerlaw\n",
            "  Downloading powerlaw-1.5-py3-none-any.whl (24 kB)\n",
            "Requirement already satisfied: numpy in /usr/local/lib/python3.8/dist-packages (from powerlaw) (1.21.6)\n",
            "Requirement already satisfied: scipy in /usr/local/lib/python3.8/dist-packages (from powerlaw) (1.7.3)\n",
            "Requirement already satisfied: mpmath in /usr/local/lib/python3.8/dist-packages (from powerlaw) (1.2.1)\n",
            "Requirement already satisfied: matplotlib in /usr/local/lib/python3.8/dist-packages (from powerlaw) (3.2.2)\n",
            "Requirement already satisfied: cycler>=0.10 in /usr/local/lib/python3.8/dist-packages (from matplotlib->powerlaw) (0.11.0)\n",
            "Requirement already satisfied: pyparsing!=2.0.4,!=2.1.2,!=2.1.6,>=2.0.1 in /usr/local/lib/python3.8/dist-packages (from matplotlib->powerlaw) (3.0.9)\n",
            "Requirement already satisfied: python-dateutil>=2.1 in /usr/local/lib/python3.8/dist-packages (from matplotlib->powerlaw) (2.8.2)\n",
            "Requirement already satisfied: kiwisolver>=1.0.1 in /usr/local/lib/python3.8/dist-packages (from matplotlib->powerlaw) (1.4.4)\n",
            "Requirement already satisfied: six>=1.5 in /usr/local/lib/python3.8/dist-packages (from python-dateutil>=2.1->matplotlib->powerlaw) (1.15.0)\n",
            "Installing collected packages: powerlaw\n",
            "Successfully installed powerlaw-1.5\n"
          ]
        }
      ],
      "source": [
        "# Need lyapy from Allison\n",
        "!pip install git+https://github.com/allisony/lyapy\n",
        "!pip install emcee\n",
        "!pip install corner\n",
        "!pip install powerlaw"
      ]
    },
    {
      "cell_type": "code",
      "execution_count": null,
      "metadata": {
        "id": "dnBibN_c3eRE"
      },
      "outputs": [],
      "source": [
        "import numpy as np\n",
        "import matplotlib.pyplot as plt\n",
        "import pandas as pd"
      ]
    },
    {
      "cell_type": "markdown",
      "metadata": {
        "id": "9Yj1yynjJZaK"
      },
      "source": [
        "# **Finding the relationship between flare frequency and peak irradiance**\n",
        "\n",
        "##**Upload the NOAA data**\n",
        "\n",
        "We begin by uploading the peak irradiance of all the recorded flares from 2010 to 2020 provided by Space Weather Data Portal. The datafile has four columns: Date and time of the flare peak, the peak irradiance, the flare class, and the date and time of the end of the flare. "
      ]
    },
    {
      "cell_type": "code",
      "execution_count": null,
      "metadata": {
        "colab": {
          "base_uri": "https://localhost:8080/",
          "height": 424
        },
        "id": "gUcmjgN4Jiv1",
        "outputId": "313fccf6-0822-486b-ae98-2a5361388fcc"
      },
      "outputs": [
        {
          "output_type": "display_data",
          "data": {
            "text/plain": [
              "             Time [ISO8601] Flare Class  Peak Flux [W/m2]\n",
              "0      2011-01-14T00:06:00Z        B3.1      3.102040e-07\n",
              "1      2011-01-14T02:19:00Z        B3.0      3.094000e-07\n",
              "2      2011-01-14T03:26:00Z        C2.3      2.353960e-06\n",
              "3      2011-01-14T13:07:00Z        C1.4      1.447450e-06\n",
              "4      2011-01-14T15:51:00Z        B2.9      2.955390e-07\n",
              "...                     ...         ...               ...\n",
              "18828  2018-02-08T19:49:00Z        B2.5      2.591880e-07\n",
              "18829  2018-02-08T20:33:00Z        B8.8      8.830330e-07\n",
              "18830  2018-02-08T21:14:00Z        B2.0      2.013070e-07\n",
              "18831  2018-02-08T21:30:00Z        B4.6      4.685210e-07\n",
              "18832  2018-02-08T21:39:00Z        B6.6      6.685830e-07\n",
              "\n",
              "[18833 rows x 3 columns]"
            ],
            "text/html": [
              "\n",
              "  <div id=\"df-a40a21d3-8cd3-453b-8439-ed70a33a7f5b\">\n",
              "    <div class=\"colab-df-container\">\n",
              "      <div>\n",
              "<style scoped>\n",
              "    .dataframe tbody tr th:only-of-type {\n",
              "        vertical-align: middle;\n",
              "    }\n",
              "\n",
              "    .dataframe tbody tr th {\n",
              "        vertical-align: top;\n",
              "    }\n",
              "\n",
              "    .dataframe thead th {\n",
              "        text-align: right;\n",
              "    }\n",
              "</style>\n",
              "<table border=\"1\" class=\"dataframe\">\n",
              "  <thead>\n",
              "    <tr style=\"text-align: right;\">\n",
              "      <th></th>\n",
              "      <th>Time [ISO8601]</th>\n",
              "      <th>Flare Class</th>\n",
              "      <th>Peak Flux [W/m2]</th>\n",
              "    </tr>\n",
              "  </thead>\n",
              "  <tbody>\n",
              "    <tr>\n",
              "      <th>0</th>\n",
              "      <td>2011-01-14T00:06:00Z</td>\n",
              "      <td>B3.1</td>\n",
              "      <td>3.102040e-07</td>\n",
              "    </tr>\n",
              "    <tr>\n",
              "      <th>1</th>\n",
              "      <td>2011-01-14T02:19:00Z</td>\n",
              "      <td>B3.0</td>\n",
              "      <td>3.094000e-07</td>\n",
              "    </tr>\n",
              "    <tr>\n",
              "      <th>2</th>\n",
              "      <td>2011-01-14T03:26:00Z</td>\n",
              "      <td>C2.3</td>\n",
              "      <td>2.353960e-06</td>\n",
              "    </tr>\n",
              "    <tr>\n",
              "      <th>3</th>\n",
              "      <td>2011-01-14T13:07:00Z</td>\n",
              "      <td>C1.4</td>\n",
              "      <td>1.447450e-06</td>\n",
              "    </tr>\n",
              "    <tr>\n",
              "      <th>4</th>\n",
              "      <td>2011-01-14T15:51:00Z</td>\n",
              "      <td>B2.9</td>\n",
              "      <td>2.955390e-07</td>\n",
              "    </tr>\n",
              "    <tr>\n",
              "      <th>...</th>\n",
              "      <td>...</td>\n",
              "      <td>...</td>\n",
              "      <td>...</td>\n",
              "    </tr>\n",
              "    <tr>\n",
              "      <th>18828</th>\n",
              "      <td>2018-02-08T19:49:00Z</td>\n",
              "      <td>B2.5</td>\n",
              "      <td>2.591880e-07</td>\n",
              "    </tr>\n",
              "    <tr>\n",
              "      <th>18829</th>\n",
              "      <td>2018-02-08T20:33:00Z</td>\n",
              "      <td>B8.8</td>\n",
              "      <td>8.830330e-07</td>\n",
              "    </tr>\n",
              "    <tr>\n",
              "      <th>18830</th>\n",
              "      <td>2018-02-08T21:14:00Z</td>\n",
              "      <td>B2.0</td>\n",
              "      <td>2.013070e-07</td>\n",
              "    </tr>\n",
              "    <tr>\n",
              "      <th>18831</th>\n",
              "      <td>2018-02-08T21:30:00Z</td>\n",
              "      <td>B4.6</td>\n",
              "      <td>4.685210e-07</td>\n",
              "    </tr>\n",
              "    <tr>\n",
              "      <th>18832</th>\n",
              "      <td>2018-02-08T21:39:00Z</td>\n",
              "      <td>B6.6</td>\n",
              "      <td>6.685830e-07</td>\n",
              "    </tr>\n",
              "  </tbody>\n",
              "</table>\n",
              "<p>18833 rows × 3 columns</p>\n",
              "</div>\n",
              "      <button class=\"colab-df-convert\" onclick=\"convertToInteractive('df-a40a21d3-8cd3-453b-8439-ed70a33a7f5b')\"\n",
              "              title=\"Convert this dataframe to an interactive table.\"\n",
              "              style=\"display:none;\">\n",
              "        \n",
              "  <svg xmlns=\"http://www.w3.org/2000/svg\" height=\"24px\"viewBox=\"0 0 24 24\"\n",
              "       width=\"24px\">\n",
              "    <path d=\"M0 0h24v24H0V0z\" fill=\"none\"/>\n",
              "    <path d=\"M18.56 5.44l.94 2.06.94-2.06 2.06-.94-2.06-.94-.94-2.06-.94 2.06-2.06.94zm-11 1L8.5 8.5l.94-2.06 2.06-.94-2.06-.94L8.5 2.5l-.94 2.06-2.06.94zm10 10l.94 2.06.94-2.06 2.06-.94-2.06-.94-.94-2.06-.94 2.06-2.06.94z\"/><path d=\"M17.41 7.96l-1.37-1.37c-.4-.4-.92-.59-1.43-.59-.52 0-1.04.2-1.43.59L10.3 9.45l-7.72 7.72c-.78.78-.78 2.05 0 2.83L4 21.41c.39.39.9.59 1.41.59.51 0 1.02-.2 1.41-.59l7.78-7.78 2.81-2.81c.8-.78.8-2.07 0-2.86zM5.41 20L4 18.59l7.72-7.72 1.47 1.35L5.41 20z\"/>\n",
              "  </svg>\n",
              "      </button>\n",
              "      \n",
              "  <style>\n",
              "    .colab-df-container {\n",
              "      display:flex;\n",
              "      flex-wrap:wrap;\n",
              "      gap: 12px;\n",
              "    }\n",
              "\n",
              "    .colab-df-convert {\n",
              "      background-color: #E8F0FE;\n",
              "      border: none;\n",
              "      border-radius: 50%;\n",
              "      cursor: pointer;\n",
              "      display: none;\n",
              "      fill: #1967D2;\n",
              "      height: 32px;\n",
              "      padding: 0 0 0 0;\n",
              "      width: 32px;\n",
              "    }\n",
              "\n",
              "    .colab-df-convert:hover {\n",
              "      background-color: #E2EBFA;\n",
              "      box-shadow: 0px 1px 2px rgba(60, 64, 67, 0.3), 0px 1px 3px 1px rgba(60, 64, 67, 0.15);\n",
              "      fill: #174EA6;\n",
              "    }\n",
              "\n",
              "    [theme=dark] .colab-df-convert {\n",
              "      background-color: #3B4455;\n",
              "      fill: #D2E3FC;\n",
              "    }\n",
              "\n",
              "    [theme=dark] .colab-df-convert:hover {\n",
              "      background-color: #434B5C;\n",
              "      box-shadow: 0px 1px 3px 1px rgba(0, 0, 0, 0.15);\n",
              "      filter: drop-shadow(0px 1px 2px rgba(0, 0, 0, 0.3));\n",
              "      fill: #FFFFFF;\n",
              "    }\n",
              "  </style>\n",
              "\n",
              "      <script>\n",
              "        const buttonEl =\n",
              "          document.querySelector('#df-a40a21d3-8cd3-453b-8439-ed70a33a7f5b button.colab-df-convert');\n",
              "        buttonEl.style.display =\n",
              "          google.colab.kernel.accessAllowed ? 'block' : 'none';\n",
              "\n",
              "        async function convertToInteractive(key) {\n",
              "          const element = document.querySelector('#df-a40a21d3-8cd3-453b-8439-ed70a33a7f5b');\n",
              "          const dataTable =\n",
              "            await google.colab.kernel.invokeFunction('convertToInteractive',\n",
              "                                                     [key], {});\n",
              "          if (!dataTable) return;\n",
              "\n",
              "          const docLinkHtml = 'Like what you see? Visit the ' +\n",
              "            '<a target=\"_blank\" href=https://colab.research.google.com/notebooks/data_table.ipynb>data table notebook</a>'\n",
              "            + ' to learn more about interactive tables.';\n",
              "          element.innerHTML = '';\n",
              "          dataTable['output_type'] = 'display_data';\n",
              "          await google.colab.output.renderOutput(dataTable, element);\n",
              "          const docLink = document.createElement('div');\n",
              "          docLink.innerHTML = docLinkHtml;\n",
              "          element.appendChild(docLink);\n",
              "        }\n",
              "      </script>\n",
              "    </div>\n",
              "  </div>\n",
              "  "
            ]
          },
          "metadata": {}
        }
      ],
      "source": [
        "listoflares = pd.read_csv('sci_xrsf-l2-flsum_g15_s20100331_e20200304_v1-0-0.nc.csv')     # Import data using pandas library\n",
        "\n",
        "display(listoflares)       # Display the dataframe of the list of flares"
      ]
    },
    {
      "cell_type": "markdown",
      "metadata": {
        "id": "camDdP1GJkq_"
      },
      "source": [
        "## **Plot the flare frequency vs peak irradiance**\n",
        "\n",
        "Once again, we are trying to answer this question: given the peak irradiance of a flare, how often do flares with a similar peak irradiance occur? So let's start by grouping flares with a similar peak irradiance. \n",
        "\n",
        "We can do this by using the function `histogram` from the `numpy` library. A histogram splits the data up into different intervals called \"**bins**\": for example, flares with an irradiance from 0 up to 0.00001 $W/m^2$, from 0.00001 up to 0.00002, etc. The histogram will tell us the number of flares in each \"bin\" over 10 years \n"
      ]
    },
    {
      "cell_type": "code",
      "execution_count": null,
      "metadata": {
        "id": "0R6uVomKJs_7"
      },
      "outputs": [],
      "source": [
        "n_bins =  30\n",
        "\n",
        "bin_edge = np.geomspace(1e-8, 9e-3, n_bins+1) # Define bin edges logarithmically spaced apart\n",
        "\n",
        "# Split peak irradiances into x number of bins\n",
        "# the variable hist contains the total # of flares in each bin\n",
        "# bin_edges contains the edge irradiance values of each of the bins\n",
        "hist, bin_edges = np.histogram(listoflares['Peak Flux [W/m2]'], bins=bin_edge)\n",
        "\n",
        "# Let's also calculate some properties of the histogram bins which we will use later\n",
        "\n",
        "# Calculate bin widths from the bin edges\n",
        "bin_widths = np.diff(bin_edges)\n",
        "\n",
        "# Calculate bin centers from bin edges \n",
        "bin_centers = bin_edges[:-1] + np.diff(bin_edges)/2\n"
      ]
    },
    {
      "cell_type": "markdown",
      "metadata": {
        "id": "hjQXWTgaJwOk"
      },
      "source": [
        "Before we plot, there are two more adjustments we have to make. \n",
        "\n",
        "1. First, we are interested in how frequently these flares occur *per year*, not over 10 years. So we have to take the histogram data and divide by 10. \n",
        "\n",
        "2. To understand the second adjustment, suppose we used a much wider bin that went all the way from 0.00001 up to 0.00009. Certainly, there would be more flares per year that fall into this new range. But that wouldn't really be because the flares were occurring more often. To counteract this effect, we will also divide the number of flares in the bin by the *width* of the bin.\n",
        "\n",
        "In the end, we will have divided by \"10 years\" and also by the width of the irradiance bins, which have units of W/m^2. This means the units on our y-axis are \"number of flares per year, per (W/m^2)\". We will just call this the \"Flare Frequency\".  \n"
      ]
    },
    {
      "cell_type": "code",
      "execution_count": null,
      "metadata": {
        "colab": {
          "base_uri": "https://localhost:8080/",
          "height": 290
        },
        "id": "JfVGGyhfJyaC",
        "outputId": "8615b367-5b01-479f-cd73-d8e22ed75f1e"
      },
      "outputs": [
        {
          "output_type": "display_data",
          "data": {
            "text/plain": [
              "<Figure size 432x288 with 1 Axes>"
            ],
            "image/png": "[encoded data removed]"
          },
          "metadata": {
            "needs_background": "light"
          }
        }
      ],
      "source": [
        "# Two adjustments to the data\n",
        "\n",
        "#Calculate for a single year instead of 10 years\n",
        "num_flares_per_year = hist/10\n",
        "\n",
        "# Calculate the number of flares over 10 years per bin width\n",
        "num_flares_per_year_per_binwidth = num_flares_per_year/bin_widths\n",
        "\n",
        "# Plot\n",
        "plt.plot(bin_centers, num_flares_per_year_per_binwidth, '.')\n",
        "plt.xlabel('Peak Irradiance (W/m^2)')\n",
        "plt.ylabel('Flare Frequency (#/year/(W/m^2))')\n",
        "\n",
        "plt.show()"
      ]
    },
    {
      "cell_type": "markdown",
      "metadata": {
        "id": "A8UQQ8eBJ1ur"
      },
      "source": [
        "## **Log Plotting and Cleaning up the data**\n",
        "\n",
        "Because the shape is so sharply curved and because the y-data covers such a large range, it will be easier to visualize the data using a log scale. Use the code cell below to graph the data on a log-log scale instead.\n",
        "\n"
      ]
    },
    {
      "cell_type": "code",
      "execution_count": null,
      "metadata": {
        "colab": {
          "base_uri": "https://localhost:8080/",
          "height": 283
        },
        "id": "QFtcMB-iJ1C6",
        "outputId": "fa66f6bc-df64-450b-f98d-59807f0bc313"
      },
      "outputs": [
        {
          "output_type": "display_data",
          "data": {
            "text/plain": [
              "<Figure size 432x288 with 1 Axes>"
            ],
            "image/png": "[encoded data removed]"
          },
          "metadata": {
            "needs_background": "light"
          }
        }
      ],
      "source": [
        "import matplotlib.pyplot as plt\n",
        "\n",
        "## Plot hist on log-log scale\n",
        "plt.plot(bin_centers, num_flares_per_year_per_binwidth, '.')\n",
        "plt.xlabel('Peak Irradiance (W/m^2)')\n",
        "plt.ylabel('Flare Frequency (#/year/(W/m^2))')\n",
        "plt.xscale('log')\n",
        "plt.yscale('log')\n",
        "plt.show()"
      ]
    },
    {
      "cell_type": "markdown",
      "metadata": {
        "id": "tJXBkuZYKAk4"
      },
      "source": [
        "On a log scale, the distribution looks linear, indicating that it follows a power law. To fit these data, we will use the standard mathematical method of actually *taking the log* of the data first, and then fitting it to a line (lines are easy to fit!)\n",
        "\n",
        "But there is a small problem to deal with first.\n",
        "\n",
        "Notice that in the graphs above, some of the data points may be zero. If we display the data directly we see the same thing. \n",
        "\n"
      ]
    },
    {
      "cell_type": "code",
      "execution_count": null,
      "metadata": {
        "colab": {
          "base_uri": "https://localhost:8080/",
          "height": 156
        },
        "id": "uHw5s5CSKDBg",
        "outputId": "76375834-b4c3-4d6e-d91d-e99545fbd3dc"
      },
      "outputs": [
        {
          "output_type": "display_data",
          "data": {
            "text/plain": [
              "array([0.00000000e+00, 0.00000000e+00, 0.00000000e+00, 0.00000000e+00,\n",
              "       2.77440523e+06, 7.94023909e+08, 7.53024425e+08, 7.40903053e+08,\n",
              "       7.46939979e+08, 6.63252904e+08, 5.60120913e+08, 3.83748191e+08,\n",
              "       1.80336040e+08, 6.61236311e+07, 2.50288299e+07, 9.97075857e+06,\n",
              "       3.51376515e+06, 1.16712702e+06, 4.52636390e+05, 1.78393274e+05,\n",
              "       8.33271262e+04, 1.75869447e+04, 1.33627823e+04, 2.35028021e+03,\n",
              "       5.95257512e+02, 5.65355203e+02, 0.00000000e+00, 0.00000000e+00,\n",
              "       0.00000000e+00, 0.00000000e+00])"
            ]
          },
          "metadata": {}
        }
      ],
      "source": [
        "display(num_flares_per_year_per_binwidth)"
      ]
    },
    {
      "cell_type": "markdown",
      "metadata": {
        "id": "AHsa3nKdKFcM"
      },
      "source": [
        "Since we plan to take a log of the data before we fit it, zero values pose a problem because the $log(0)$ is undefined. Let's run some code to remove these zeros."
      ]
    },
    {
      "cell_type": "code",
      "execution_count": null,
      "metadata": {
        "colab": {
          "base_uri": "https://localhost:8080/",
          "height": 121
        },
        "id": "Uj8QulEXKHD6",
        "outputId": "ef629406-1a7f-4a24-d3b3-ab15e64f0b4a"
      },
      "outputs": [
        {
          "output_type": "display_data",
          "data": {
            "text/plain": [
              "array([2.77440523e+06, 7.94023909e+08, 7.53024425e+08, 7.40903053e+08,\n",
              "       7.46939979e+08, 6.63252904e+08, 5.60120913e+08, 3.83748191e+08,\n",
              "       1.80336040e+08, 6.61236311e+07, 2.50288299e+07, 9.97075857e+06,\n",
              "       3.51376515e+06, 1.16712702e+06, 4.52636390e+05, 1.78393274e+05,\n",
              "       8.33271262e+04, 1.75869447e+04, 1.33627823e+04, 2.35028021e+03,\n",
              "       5.95257512e+02, 5.65355203e+02])"
            ]
          },
          "metadata": {}
        }
      ],
      "source": [
        "import numpy as np\n",
        "\n",
        "# List of the indices where # of flares per bin width is zero\n",
        "index_of_zeros = np.where(num_flares_per_year_per_binwidth == 0)\n",
        "\n",
        "# Delete the elements in bin_centers and num_of_flares_per_binwidth based on the\n",
        "#  list of indices where um_of_flares_per_binwidth has a zero value\n",
        "num_flares_per_year_per_binwidth = np.delete(num_flares_per_year_per_binwidth, index_of_zeros)\n",
        "bin_centers = np.delete(bin_centers, index_of_zeros)\n",
        "bin_edges = np.delete(bin_edges, index_of_zeros[0]+1)\n",
        "\n",
        "display(num_flares_per_year_per_binwidth)"
      ]
    },
    {
      "cell_type": "markdown",
      "metadata": {
        "id": "sO7IL0cMKJKg"
      },
      "source": [
        "Since these data no longer have any zeros in it, it will be safe to take the log before fitting a line, which is how we will ultimately determine the power law relationship.\n"
      ]
    },
    {
      "cell_type": "markdown",
      "metadata": {
        "id": "qdYf77whKN5g"
      },
      "source": [
        "## **Find the power law**\n",
        "\n",
        "We now can find a power law by fitting the linear region shown on the log-log plot. You will need to use the `linregress` function in the `scipy.stats` library. [Here](https://docs.scipy.org/doc/scipy/reference/generated/scipy.stats.linregress.html) is a link to the reference library on the `linregress` function.\n",
        "\n",
        "The `linregress` function takes two parameters as inputs: `x` and `y` and calclates a best fit line to those data. The function has five outputs: \n",
        "\n",
        "> 1) Slope: The slope of the best fit line\n",
        "\n",
        "> 2) Intercept: The y-intercept of the best fit line\n",
        "\n",
        "> 3) R-value: We won't use it in this class, but this is the \"correlation coefficient\", which measures how close the data are to falling on a perfect line. \n",
        "\n",
        "> 4) p-value: We won't use this either, but technically speaking, this is the two-sided p-value for a hypothesis test whose null hypothesis is that the slope is zero, using Wald Test with t-distribution of the test statistic. \n",
        "\n",
        "> 5) Standard error: Standard error of the estimated slope.\n",
        "\n",
        "To find the power-law relationship, we will also need to fit the line to the **log of the data** rather than to the raw data itself."
      ]
    },
    {
      "cell_type": "code",
      "execution_count": null,
      "metadata": {
        "colab": {
          "base_uri": "https://localhost:8080/",
          "height": 104
        },
        "id": "GcRbSbitKLTz",
        "outputId": "47a8e50e-e8dc-4e2b-9e4e-4f8caf2ff848"
      },
      "outputs": [
        {
          "output_type": "display_data",
          "data": {
            "text/plain": [
              "-2.2201218407067107"
            ]
          },
          "metadata": {}
        },
        {
          "output_type": "display_data",
          "data": {
            "text/plain": [
              "-9.005943036013377"
            ]
          },
          "metadata": {}
        },
        {
          "output_type": "display_data",
          "data": {
            "text/plain": [
              "-0.9958467755951684"
            ]
          },
          "metadata": {}
        },
        {
          "output_type": "display_data",
          "data": {
            "text/plain": [
              "1.1157430656217704e-10"
            ]
          },
          "metadata": {}
        },
        {
          "output_type": "display_data",
          "data": {
            "text/plain": [
              "0.06765802716064227"
            ]
          },
          "metadata": {}
        }
      ],
      "source": [
        "import numpy as np\n",
        "import scipy.stats as stats\n",
        "\n",
        "## Define the x and y data for the linear regression\n",
        "x =  np.log(bin_centers[11:29])   \n",
        "y =  np.log(num_flares_per_year_per_binwidth[11:29])  \n",
        "\n",
        "PI2F_slope, PI2F_intercept, PI2F_r_value, PI2F_p_value, PI2F_std_err = stats.linregress(x, y)\n",
        "\n",
        "display(PI2F_slope, PI2F_intercept, PI2F_r_value, PI2F_p_value, PI2F_std_err)"
      ]
    },
    {
      "cell_type": "markdown",
      "metadata": {
        "id": "-trrygPAKZRm"
      },
      "source": [
        "Now, let's calcuate the best fit curve for the original data by \"undoing\" the log:"
      ]
    },
    {
      "cell_type": "code",
      "execution_count": null,
      "metadata": {
        "id": "KhQZtcpKKbgX"
      },
      "outputs": [],
      "source": [
        "import numpy as np\n",
        "\n",
        "## Calculate the best fit line using the slope and intercept given by the linear \n",
        "## regression function above.   \n",
        "PI2F_best_fit_line = np.exp(PI2F_slope*np.log(bin_centers[11:29])+PI2F_intercept)\n"
      ]
    },
    {
      "cell_type": "markdown",
      "metadata": {
        "id": "2OSeQ-21KeHb"
      },
      "source": [
        " Plot the `num_flares_per_year_per_binwidth` data versus `bin_centers` along with the best fit curve to visualize the fit. We suggest plotting in log-log scale, which will make both the data and the best-fit curve appear linear.\n",
        " "
      ]
    },
    {
      "cell_type": "code",
      "execution_count": null,
      "metadata": {
        "colab": {
          "base_uri": "https://localhost:8080/",
          "height": 283
        },
        "id": "UeDsCVt-KgbX",
        "outputId": "bf294528-96bc-41b4-d140-d120a1ca73a6"
      },
      "outputs": [
        {
          "output_type": "display_data",
          "data": {
            "text/plain": [
              "<Figure size 432x288 with 1 Axes>"
            ],
            "image/png": "[encoded data removed]"
          },
          "metadata": {
            "needs_background": "light"
          }
        }
      ],
      "source": [
        "import matplotlib.pyplot as plt\n",
        "\n",
        "## Plot the bin_centers versus flare_per_year_per_binwidth data and the best fit  \n",
        "## line on the same graph to visualize the fit. Note, that we need to take the  \n",
        "## exponential of the linear fit in order to translate it to a power law fit. \n",
        "\n",
        "plt.plot(bin_centers, num_flares_per_year_per_binwidth, '.')\n",
        "plt.plot(bin_centers[11:29], PI2F_best_fit_line)#note the bin range here\n",
        "plt.xscale('log')\n",
        "plt.yscale('log')\n",
        "plt.xlabel('Peak Irradiance (W/m^2)')\n",
        "plt.ylabel('Flare Frequency (#/year/(W/m^2)')\n",
        "plt.legend(['Histogram data', 'Linear fit'])\n",
        "\n",
        "plt.show()"
      ]
    },
    {
      "cell_type": "markdown",
      "metadata": {
        "id": "nWLan1eMmchC"
      },
      "source": [
        "## Confirm power law using MLE"
      ]
    },
    {
      "cell_type": "markdown",
      "metadata": {
        "id": "LIlq4ew0pMzn"
      },
      "source": [
        "### Using equations 2 and 3 from D'Huys+ 2016\n",
        "https://link.springer.com/article/10.1007/s11207-016-0910-5#Sec15"
      ]
    },
    {
      "cell_type": "code",
      "execution_count": null,
      "metadata": {
        "id": "uVp-qua4mhYY"
      },
      "outputs": [],
      "source": [
        "def calculate_alpha_and_sigma_with_mle(x, x_min):\n",
        "  n = len(x)\n",
        "  alpha = 1 + n / np.sum(np.log(x/x_min))\n",
        "  sigma = ((alpha - 1) / np.sqrt(n)) + (1/n)\n",
        "  return alpha, sigma"
      ]
    },
    {
      "cell_type": "code",
      "execution_count": null,
      "metadata": {
        "colab": {
          "base_uri": "https://localhost:8080/"
        },
        "id": "FvQVhh-jtr1S",
        "outputId": "187b2645-8861-4813-ecc9-95a2c3e44802"
      },
      "outputs": [
        {
          "output_type": "stream",
          "name": "stdout",
          "text": [
            "2.1644835204925457 ± 0.018779022516479858\n"
          ]
        }
      ],
      "source": [
        "data = listoflares['Peak Flux [W/m2]']\n",
        "x_min = 3.5e-6\n",
        "indices = np.where(data > x_min)\n",
        "alpha_peaks, sigma_peaks = calculate_alpha_and_sigma_with_mle(data.iloc[indices], x_min)\n",
        "print(alpha_peaks, '±', sigma_peaks)"
      ]
    },
    {
      "cell_type": "markdown",
      "metadata": {
        "id": "TXhsF4Qepcf3"
      },
      "source": [
        "### Using `powerlaw` package"
      ]
    },
    {
      "cell_type": "code",
      "execution_count": null,
      "metadata": {
        "colab": {
          "base_uri": "https://localhost:8080/"
        },
        "id": "MxipuYOvmiW6",
        "outputId": "1dca18d6-778b-477f-dae3-ad348ef379dc"
      },
      "outputs": [
        {
          "output_type": "stream",
          "name": "stdout",
          "text": [
            "Calculating best minimal value for power law fit\n",
            "2.1643466904333772 ± 0.014984275823281814\n",
            "2.43371e-06\n"
          ]
        }
      ],
      "source": [
        "import powerlaw\n",
        "data = listoflares['Peak Flux [W/m2]'].values\n",
        "results = powerlaw.Fit(data)\n",
        "print(results.power_law.alpha, '±', results.power_law.sigma)\n",
        "print(results.power_law.xmin)"
      ]
    },
    {
      "cell_type": "markdown",
      "metadata": {
        "id": "nf3YOl_PrzAd"
      },
      "source": [
        "### Compare the methods"
      ]
    },
    {
      "cell_type": "code",
      "execution_count": null,
      "metadata": {
        "colab": {
          "base_uri": "https://localhost:8080/"
        },
        "id": "axBgCpKrptfR",
        "outputId": "fe3abffb-0005-4807-c025-d7248f91e8a6"
      },
      "outputs": [
        {
          "output_type": "stream",
          "name": "stdout",
          "text": [
            "Linear fit: -2.2201218407067107 ± 0.06765802716064227\n",
            "D'Huys+ 2016 equations: 2.1644835204925457 ± 0.018779022516479858\n",
            "`powerlaw` package 2.1643466904333772 ± 0.014984275823281814\n"
          ]
        }
      ],
      "source": [
        "print('Linear fit:', PI2F_slope, '±', PI2F_std_err)\n",
        "print(\"D'Huys+ 2016 equations:\", alpha_peaks, '±', sigma_peaks)\n",
        "print('`powerlaw` package', results.power_law.alpha, '±', results.power_law.sigma)"
      ]
    },
    {
      "cell_type": "markdown",
      "metadata": {
        "id": "LgaCcNfNRknV"
      },
      "source": [
        "## **Upload the C-PhLARE data and plot**\n"
      ]
    },
    {
      "cell_type": "code",
      "execution_count": null,
      "metadata": {
        "colab": {
          "base_uri": "https://localhost:8080/",
          "height": 424
        },
        "id": "aKGnPjH3I8bQ",
        "outputId": "bd419f78-53eb-4f5a-cc06-a37264b9e2ae"
      },
      "outputs": [
        {
          "output_type": "display_data",
          "data": {
            "text/plain": [
              "     Peak Irr        Energy\n",
              "0    0.000327  9.814290e+29\n",
              "1    0.000002  2.510000e+27\n",
              "2    0.000504  1.150000e+29\n",
              "3    0.000005  3.900000e+27\n",
              "4    0.000009  5.680000e+27\n",
              "..        ...           ...\n",
              "207  0.000010  8.371430e+27\n",
              "208  0.000011  2.557140e+28\n",
              "209  0.000014  1.324290e+28\n",
              "210  0.000014  7.957140e+28\n",
              "211  0.000017  1.900000e+29\n",
              "\n",
              "[212 rows x 2 columns]"
            ],
            "text/html": [
              "\n",
              "  <div id=\"df-780c34ba-4059-4b17-ba38-a24dc6a94225\">\n",
              "    <div class=\"colab-df-container\">\n",
              "      <div>\n",
              "<style scoped>\n",
              "    .dataframe tbody tr th:only-of-type {\n",
              "        vertical-align: middle;\n",
              "    }\n",
              "\n",
              "    .dataframe tbody tr th {\n",
              "        vertical-align: top;\n",
              "    }\n",
              "\n",
              "    .dataframe thead th {\n",
              "        text-align: right;\n",
              "    }\n",
              "</style>\n",
              "<table border=\"1\" class=\"dataframe\">\n",
              "  <thead>\n",
              "    <tr style=\"text-align: right;\">\n",
              "      <th></th>\n",
              "      <th>Peak Irr</th>\n",
              "      <th>Energy</th>\n",
              "    </tr>\n",
              "  </thead>\n",
              "  <tbody>\n",
              "    <tr>\n",
              "      <th>0</th>\n",
              "      <td>0.000327</td>\n",
              "      <td>9.814290e+29</td>\n",
              "    </tr>\n",
              "    <tr>\n",
              "      <th>1</th>\n",
              "      <td>0.000002</td>\n",
              "      <td>2.510000e+27</td>\n",
              "    </tr>\n",
              "    <tr>\n",
              "      <th>2</th>\n",
              "      <td>0.000504</td>\n",
              "      <td>1.150000e+29</td>\n",
              "    </tr>\n",
              "    <tr>\n",
              "      <th>3</th>\n",
              "      <td>0.000005</td>\n",
              "      <td>3.900000e+27</td>\n",
              "    </tr>\n",
              "    <tr>\n",
              "      <th>4</th>\n",
              "      <td>0.000009</td>\n",
              "      <td>5.680000e+27</td>\n",
              "    </tr>\n",
              "    <tr>\n",
              "      <th>...</th>\n",
              "      <td>...</td>\n",
              "      <td>...</td>\n",
              "    </tr>\n",
              "    <tr>\n",
              "      <th>207</th>\n",
              "      <td>0.000010</td>\n",
              "      <td>8.371430e+27</td>\n",
              "    </tr>\n",
              "    <tr>\n",
              "      <th>208</th>\n",
              "      <td>0.000011</td>\n",
              "      <td>2.557140e+28</td>\n",
              "    </tr>\n",
              "    <tr>\n",
              "      <th>209</th>\n",
              "      <td>0.000014</td>\n",
              "      <td>1.324290e+28</td>\n",
              "    </tr>\n",
              "    <tr>\n",
              "      <th>210</th>\n",
              "      <td>0.000014</td>\n",
              "      <td>7.957140e+28</td>\n",
              "    </tr>\n",
              "    <tr>\n",
              "      <th>211</th>\n",
              "      <td>0.000017</td>\n",
              "      <td>1.900000e+29</td>\n",
              "    </tr>\n",
              "  </tbody>\n",
              "</table>\n",
              "<p>212 rows × 2 columns</p>\n",
              "</div>\n",
              "      <button class=\"colab-df-convert\" onclick=\"convertToInteractive('df-780c34ba-4059-4b17-ba38-a24dc6a94225')\"\n",
              "              title=\"Convert this dataframe to an interactive table.\"\n",
              "              style=\"display:none;\">\n",
              "        \n",
              "  <svg xmlns=\"http://www.w3.org/2000/svg\" height=\"24px\"viewBox=\"0 0 24 24\"\n",
              "       width=\"24px\">\n",
              "    <path d=\"M0 0h24v24H0V0z\" fill=\"none\"/>\n",
              "    <path d=\"M18.56 5.44l.94 2.06.94-2.06 2.06-.94-2.06-.94-.94-2.06-.94 2.06-2.06.94zm-11 1L8.5 8.5l.94-2.06 2.06-.94-2.06-.94L8.5 2.5l-.94 2.06-2.06.94zm10 10l.94 2.06.94-2.06 2.06-.94-2.06-.94-.94-2.06-.94 2.06-2.06.94z\"/><path d=\"M17.41 7.96l-1.37-1.37c-.4-.4-.92-.59-1.43-.59-.52 0-1.04.2-1.43.59L10.3 9.45l-7.72 7.72c-.78.78-.78 2.05 0 2.83L4 21.41c.39.39.9.59 1.41.59.51 0 1.02-.2 1.41-.59l7.78-7.78 2.81-2.81c.8-.78.8-2.07 0-2.86zM5.41 20L4 18.59l7.72-7.72 1.47 1.35L5.41 20z\"/>\n",
              "  </svg>\n",
              "      </button>\n",
              "      \n",
              "  <style>\n",
              "    .colab-df-container {\n",
              "      display:flex;\n",
              "      flex-wrap:wrap;\n",
              "      gap: 12px;\n",
              "    }\n",
              "\n",
              "    .colab-df-convert {\n",
              "      background-color: #E8F0FE;\n",
              "      border: none;\n",
              "      border-radius: 50%;\n",
              "      cursor: pointer;\n",
              "      display: none;\n",
              "      fill: #1967D2;\n",
              "      height: 32px;\n",
              "      padding: 0 0 0 0;\n",
              "      width: 32px;\n",
              "    }\n",
              "\n",
              "    .colab-df-convert:hover {\n",
              "      background-color: #E2EBFA;\n",
              "      box-shadow: 0px 1px 2px rgba(60, 64, 67, 0.3), 0px 1px 3px 1px rgba(60, 64, 67, 0.15);\n",
              "      fill: #174EA6;\n",
              "    }\n",
              "\n",
              "    [theme=dark] .colab-df-convert {\n",
              "      background-color: #3B4455;\n",
              "      fill: #D2E3FC;\n",
              "    }\n",
              "\n",
              "    [theme=dark] .colab-df-convert:hover {\n",
              "      background-color: #434B5C;\n",
              "      box-shadow: 0px 1px 3px 1px rgba(0, 0, 0, 0.15);\n",
              "      filter: drop-shadow(0px 1px 2px rgba(0, 0, 0, 0.3));\n",
              "      fill: #FFFFFF;\n",
              "    }\n",
              "  </style>\n",
              "\n",
              "      <script>\n",
              "        const buttonEl =\n",
              "          document.querySelector('#df-780c34ba-4059-4b17-ba38-a24dc6a94225 button.colab-df-convert');\n",
              "        buttonEl.style.display =\n",
              "          google.colab.kernel.accessAllowed ? 'block' : 'none';\n",
              "\n",
              "        async function convertToInteractive(key) {\n",
              "          const element = document.querySelector('#df-780c34ba-4059-4b17-ba38-a24dc6a94225');\n",
              "          const dataTable =\n",
              "            await google.colab.kernel.invokeFunction('convertToInteractive',\n",
              "                                                     [key], {});\n",
              "          if (!dataTable) return;\n",
              "\n",
              "          const docLinkHtml = 'Like what you see? Visit the ' +\n",
              "            '<a target=\"_blank\" href=https://colab.research.google.com/notebooks/data_table.ipynb>data table notebook</a>'\n",
              "            + ' to learn more about interactive tables.';\n",
              "          element.innerHTML = '';\n",
              "          dataTable['output_type'] = 'display_data';\n",
              "          await google.colab.output.renderOutput(dataTable, element);\n",
              "          const docLink = document.createElement('div');\n",
              "          docLink.innerHTML = docLinkHtml;\n",
              "          element.appendChild(docLink);\n",
              "        }\n",
              "      </script>\n",
              "    </div>\n",
              "  </div>\n",
              "  "
            ]
          },
          "metadata": {}
        }
      ],
      "source": [
        "import pandas as pd\n",
        "\n",
        "CPhLARE_data = pd.read_csv('CPhLARE_data.csv')     # Import data using pandas library\n",
        "\n",
        "display(CPhLARE_data)       # Display the dataframe of the classes data\n"
      ]
    },
    {
      "cell_type": "code",
      "execution_count": null,
      "metadata": {
        "colab": {
          "base_uri": "https://localhost:8080/",
          "height": 283
        },
        "id": "CTftqUidK0ad",
        "outputId": "e30a8455-91b0-4567-9f65-0679f73c5eb7"
      },
      "outputs": [
        {
          "output_type": "display_data",
          "data": {
            "text/plain": [
              "<Figure size 432x288 with 1 Axes>"
            ],
            "image/png": "[encoded data removed]"
          },
          "metadata": {
            "needs_background": "light"
          }
        }
      ],
      "source": [
        "import matplotlib.pyplot as plt\n",
        "\n",
        "# Plot the data collected by C-PhLARE as peak irradiance versus total energy\n",
        "#plt.plot(CPhLARE_data_old.iloc[:,1],CPhLARE_data_old.iloc[:,0], 'rv')\n",
        "plt.plot(CPhLARE_data.iloc[:,1],CPhLARE_data.iloc[:,0], '.')\n",
        "# Plot on a log-log scale\n",
        "plt.ylabel('Peak Irradiance (W/m^2)')\n",
        "plt.xlabel('Total Energy (ergs)')\n",
        "plt.xscale('log')\n",
        "plt.yscale('log')\n",
        "\n",
        "plt.show()\n"
      ]
    },
    {
      "cell_type": "markdown",
      "metadata": {
        "id": "BsjtBmuRI_01"
      },
      "source": [
        "## **Compute the flare frequency from the given peak irradiance**\n",
        "\n",
        "So these data gives us a relationship between flare energy and peak irradiance. We want a relationship between flare energy and flare frequency, so we'll use the expression that predicts flare frequency from peak irradiance (recall, \"flare frequency\" is roughly how often a similar flare is expected to occur per year). We can do this by computing the flare frequencies from the peak irradiance.\n",
        "\n"
      ]
    },
    {
      "cell_type": "code",
      "execution_count": null,
      "metadata": {
        "id": "vbDxzCrJJ5eI"
      },
      "outputs": [],
      "source": [
        "import numpy as np\n",
        "\n",
        "## Calculate the flare frequency using the expression from last week \n",
        "Ifreq = np.exp(PI2F_slope*np.log(CPhLARE_data.iloc[:,0]) + PI2F_intercept)"
      ]
    },
    {
      "cell_type": "markdown",
      "metadata": {
        "id": "_Y6KdXF0MQr5"
      },
      "source": [
        "**A technical note:** When we said \"flare frequency\" previously, we meant \"how frequently is there a flare with similar peak irradiance?\" To take this into account, we divided by the irradiance \"bin width\", which gave us units of \n",
        " $ #/year/(W/m^2)$. \n",
        " "
      ]
    },
    {
      "cell_type": "markdown",
      "metadata": {
        "id": "hTfhlsERC81t"
      },
      "source": [
        "# **Convert from flare frequency/year/(W/m^2) to flare frequency/year/erg**\n",
        "\n",
        "Now, we want to ask \"how frequently is there a flare with similar *total energy*?\" In that context, what we're calling \"flare frequency\" should have  units of $ #/year /erg $. \n",
        "\n",
        "We'll convert between the two with a little bit of calculus, you can read the details [here](https://drive.google.com/file/d/1DE9NWDFI8O1DvxblxaHGpoledt8Tp_ij/view?usp=sharing). "
      ]
    },
    {
      "cell_type": "markdown",
      "metadata": {
        "id": "OENTjbUeS7pJ"
      },
      "source": [
        "To find $dI/dE$ we need to know the relationship of $I(E)$. However, $E$, the independent variable, has more uncertainty in it than $I$ the dependent variable. However, traditional linear fitting algotithms assume that all the \"error\" is in the dependent variable, so we are going to find the relationship of $E(I)$ and then invert it.  \n",
        "\n",
        "So, we need to do a bit of math:\n",
        "\n",
        "We want to find the following relationship\n",
        "\n",
        "$y = \\beta x^{\\alpha}$,\n",
        "\n",
        "\n",
        "but we use a linear regression to calculate\n",
        "\n",
        "$\\log(x) = m\\log(y) + b$.\n",
        "\n",
        "First, we need to find the \"inverted\" slope and intercept,\n",
        "\n",
        "$\\log(y) = \\frac{1}{m}\\log(x) - \\frac{b}{m}$,\n",
        "\n",
        "then we take the exponential of both sides,\n",
        "\n",
        "$y = e^{-\\frac{b}{m}}x^{\\frac{1}{m}}$.\n",
        "\n",
        "Thus,\n",
        "\n",
        "$\\alpha = {\\frac{1}{m}}$ and $\\beta = e^{-\\frac{b}{m}}.$\n",
        "\n",
        "We can also calculate the propogated uncertainties in $\\alpha$ and $\\beta$:\n",
        "\n",
        "$\\partial \\alpha = -\\frac{1}{m^2}\\partial m$ and  $\\partial \\beta = \\sqrt{\\left(\\frac{be^{-\\frac{b}{m}}}{m^2}\\partial m\\right)^2 + \\left(-\\frac{e^{-\\frac{b}{m}}}{m}\\partial b\\right)^2 }.$\n",
        "\n",
        "*Side note: We additionally, tested four different fitting techniques a standard linear regression and three robust linear regression algorithms: (1) Huber regression, (2) RANSAC Regression, and (3) Theil Sen Regression. All of which are described [here](https://machinelearningmastery.com/robust-regression-for-machine-learning-in-python/). We can then compare the four regression algorithms based on mean performance of each method, and more usefully, use tools like a box and whisker plot to compare the distribution of scores across the repeated cross-validation folds as well as their best fit lines. The robust regressions did not significantly outperform the linear regression so we chose to use a simple linear regression and did not give significantly different slopes nor intercepts. This analysis is shown in the \"Supplemental Code\" section at the end of this notebook.* "
      ]
    },
    {
      "cell_type": "code",
      "execution_count": null,
      "metadata": {
        "colab": {
          "base_uri": "https://localhost:8080/"
        },
        "id": "aMbEF0jh2fvt",
        "outputId": "b789be37-782a-490d-eed8-35c8e0acb228"
      },
      "outputs": [
        {
          "output_type": "stream",
          "name": "stdout",
          "text": [
            "Linear regression on energy versus peak; alpha: 1.0276489077024429  +-  0.04444624921535426\n",
            "Linear regression on peak versus energy; alpha: 0.9730949865316758  +-  0.04208676908760155\n"
          ]
        }
      ],
      "source": [
        "lr_EIslope, lr_EIintercept, lr_EIr_value, lr_EIp_value, lr_EIstd_err = stats.linregress(np.log(CPhLARE_data.iloc[:,0]), np.log(CPhLARE_data.iloc[:,1]))\n",
        "\n",
        "# Invert to find relationship of I(E)\n",
        "lr_IEalpha = 1/lr_EIslope\n",
        "lr_IEstd_err = (1/(lr_EIslope)**2)*(lr_EIstd_err) # Error propogation to determine SE of alphaIE # AAY+JPM: we removed the minus in \"-1\" that was here b/c this can only be positive since it _should_ be the square root of the squares so no negative numbers can survive\n",
        "lr_IEbeta = np.exp(-lr_EIintercept/lr_EIslope)\n",
        "\n",
        "print(\"Linear regression on energy versus peak; alpha:\", lr_EIslope, \" +- \", lr_EIstd_err)\n",
        "print(\"Linear regression on peak versus energy; alpha:\", lr_IEalpha, \" +- \", lr_IEstd_err)"
      ]
    },
    {
      "cell_type": "markdown",
      "metadata": {
        "id": "Dc8-0-rtLGLp"
      },
      "source": [
        "Now, we can use these values to calculate the \"per erg\" frequency from the \"per W/m^2\" frequency and propogate the errors through. There are a lot of equations going on here, so to make it easier to read, they are also written up in Latex [this](https://drive.google.com/file/d/1vUZcKSOIcS0prZ1Ty74kjxJcEJVchWxR/view?usp=sharing) PDF.\n"
      ]
    },
    {
      "cell_type": "code",
      "execution_count": null,
      "metadata": {
        "id": "U-xIyA-eVJ2d"
      },
      "outputs": [],
      "source": [
        "# Calculate the \"per erg\" frequency from the \"per W/m^2\" frequency\n",
        "\n",
        "#This fit gives us I(E) as a power law\n",
        "#Calculate dI/dE from this power law with basic calc\n",
        "lr_IEderivs = (lr_IEbeta*lr_IEalpha)*CPhLARE_data.iloc[:,1]**(lr_IEalpha-1)\n",
        "# Error propogation to determine SE of dI/dE\n",
        "#lr_IEderivs_err = (lr_IEbeta*CPhLARE_data.iloc[:,1]**(lr_IEalpha-1))*((lr_IEalpha-1)*lr_IEalpha*np.log(CPhLARE_data.iloc[:,1])+2*lr_IEalpha-1)*lr_IEstd_err\n",
        "# The above isn't consistent with what's written in the PDF equation 7. Below is consistent: \n",
        "#lr_IEderivs_err = (lr_IEbeta*CPhLARE_data.iloc[:,1]**(lr_IEalpha-1))*(lr_IEalpha*np.log(CPhLARE_data.iloc[:,1]) + 1)*lr_IEstd_err\n",
        "lr_IEderivs_err = (lr_IEbeta*CPhLARE_data.iloc[:,1]**(lr_IEalpha-1)) * (CPhLARE_data.iloc[:,1]**(lr_IEalpha-1)) * (np.log(CPhLARE_data.iloc[:,1]))*lr_IEstd_err # 2023-01-09: AAY+JPM rederived this again after noticing that the values were _larger_ than lr_IEderivs, which didn't seem like it could be right. This calculation does have smaller values as expected.\n",
        "\n",
        "#Calculate frequencies from energy at each point using the first fit (above)\n",
        "Ifreq = np.exp(PI2F_slope*np.log(CPhLARE_data.iloc[:,0]) + PI2F_intercept)\n",
        "# Error propogation to determine SE of Ifreq\n",
        "#Ifreq_err = np.log(CPhLARE_data.iloc[:,0])*PI2F_slope*np.exp(PI2F_slope-1)*PI2F_std_err\n",
        "# AAY+JPM: The above seems to be an error in taking the derivative in the exponential. Below is what we think is right but we note that the impact on alpha was only at the third decimal point. \n",
        "Ifreq_err = np.sqrt(np.log(CPhLARE_data.iloc[:,0])**2 * Ifreq**2 *PI2F_std_err**2)\n",
        "\n",
        "\n",
        "#Apply the chain rule: dn/dE = (dn/dI)*(dI/dE)\n",
        "Efreq = Ifreq*lr_IEderivs\n",
        "# Error propogation to determine SE of Efreq\n",
        "Efreq_err = np.sqrt((lr_IEderivs_err*Ifreq)**2 + (Ifreq_err*lr_IEderivs)**2)\n"
      ]
    },
    {
      "cell_type": "code",
      "execution_count": null,
      "metadata": {
        "colab": {
          "base_uri": "https://localhost:8080/",
          "height": 350
        },
        "id": "LnAWQgP6VeS-",
        "outputId": "2105e317-75ad-4db3-e590-2f92d8505e7e"
      },
      "outputs": [
        {
          "output_type": "display_data",
          "data": {
            "text/plain": [
              "<Figure size 504x360 with 1 Axes>"
            ],
            "image/png": "[encoded data removed]"
          },
          "metadata": {}
        }
      ],
      "source": [
        "## Plot the flare frequency versus the total flare energy of the class data on\n",
        "## a linear scale. The flare frequency should be the y data and the total flare\n",
        "## energy should be the x data.\n",
        "\n",
        "plt.plot(CPhLARE_data.iloc[:,1], Efreq, '.')\n",
        "plt.xlabel('Total Energy (ergs)')\n",
        "plt.ylabel('Flare Frequency (#/year/erg)')\n",
        "\n",
        "plt.show()"
      ]
    },
    {
      "cell_type": "code",
      "execution_count": null,
      "metadata": {
        "colab": {
          "base_uri": "https://localhost:8080/",
          "height": 289
        },
        "id": "2QINMOv0VgW4",
        "outputId": "6bb78290-01f0-4405-8bbe-dc0217672f89"
      },
      "outputs": [
        {
          "output_type": "display_data",
          "data": {
            "text/plain": [
              "<Figure size 432x288 with 1 Axes>"
            ],
            "image/png": "[encoded data removed]"
          },
          "metadata": {
            "needs_background": "light"
          }
        }
      ],
      "source": [
        "## Plot the flare frequency versus the total flare energy of the class data on\n",
        "## a log-log scale. The flare frequency should be the y data and the total flare\n",
        "## energy should be the x data.\n",
        "\n",
        "plt.plot(CPhLARE_data.iloc[:,1], Efreq, '.')\n",
        "plt.xlabel('Total Energy (ergs)')\n",
        "plt.ylabel('Flare Frequency (#/year/erg)')\n",
        "plt.xscale('log')\n",
        "plt.yscale('log')\n",
        "\n",
        "plt.show()"
      ]
    },
    {
      "cell_type": "markdown",
      "metadata": {
        "id": "KzuRGk4ZSv8E"
      },
      "source": [
        "# **Find the power law relationship between total energy and flare frequency**\n",
        "\n",
        "And now, the ultimate goal: what is the power law relationship between flare frequency and flare energy? In particular, what is the parameter \"alpha?\"\n",
        "\n",
        "We use a weighted least squares regression with the weights being the standard errors of `Efreq` that we calcualted above.\n",
        "\n",
        "Like before, $E$, the independent variable, has more uncertainty in it than $f_E$ (`Efreq`) the dependent variable. However, traditional linear fitting algotithms assume that all the \"error\" is in the dependent variable, so we are going to find the relationship of $E(f_E)$ and then invert it.  \n",
        "\n",
        "*Side note: We, again, compared the four different fitting techniques a standard linear regression and three robust linear regression algorithms: (1) Huber regression, (2) RANSAC Regression, and (3) Theil Sen Regression for both $f_{E,l}$ and $f_{E,pl}$. Again, the robust regressions did not significantly outperform the linear regression so we chose to use a simple linear regression and did not give significantly different slopes nor intercepts. This analysis is shown in the \"Supplemental Code\" section at the end of this notebook.* "
      ]
    },
    {
      "cell_type": "code",
      "execution_count": null,
      "metadata": {
        "id": "7ViC4xl2HBlX"
      },
      "outputs": [],
      "source": [
        "from numpy import arange\n",
        "from numpy import mean\n",
        "from numpy import std\n",
        "from numpy import absolute\n",
        "from sklearn.datasets import make_regression\n",
        "from sklearn.model_selection import cross_val_score\n",
        "from sklearn.model_selection import RepeatedKFold\n",
        "from sklearn.linear_model import LinearRegression\n",
        "from sklearn.linear_model import HuberRegressor\n",
        "from sklearn.linear_model import RANSACRegressor\n",
        "from sklearn.linear_model import TheilSenRegressor\n",
        "import statsmodels.api as sm\n",
        "from matplotlib import pyplot\n",
        "\n",
        "# reformat dataset\n",
        "X = np.log(Efreq)      ## the x data for the linear regression is the frequency/year/erg\n",
        "y = np.log(CPhLARE_data.iloc[:,1])    # the y data for the linear regression is the energies (\"E\")\n",
        "w = Efreq_err/Efreq   # Need to divide by Efreq since we are taking the linear regession of the logs\n",
        "\n",
        "X = X.to_numpy()\n",
        "y = y.to_numpy()\n",
        "\n",
        "X = np.reshape(X, (-1,1))"
      ]
    },
    {
      "cell_type": "code",
      "execution_count": null,
      "metadata": {
        "colab": {
          "base_uri": "https://localhost:8080/"
        },
        "id": "W4KzXnBZHJje",
        "outputId": "b83b5fc4-e921-4807-e00d-83b8fe929d57"
      },
      "outputs": [
        {
          "output_type": "stream",
          "name": "stdout",
          "text": [
            "Linear regression slope: [-0.4561857]\n",
            "Linear regression alpha: [-2.19208974]\n"
          ]
        }
      ],
      "source": [
        "model = LinearRegression()\n",
        "\n",
        "reg = model.fit(X, y,  sample_weight=w)\n",
        "\n",
        "slope = reg.coef_\n",
        "intercept = reg.intercept_\n",
        "\n",
        "# invert the function to find the relationship of Efreq(E) \n",
        "# calculate alpha and beta  \n",
        "alpha = 1/slope\n",
        "beta = np.exp(-intercept/slope)\n",
        "\n",
        "print(\"Linear regression slope:\", slope)\n",
        "print(\"Linear regression alpha:\", alpha)"
      ]
    },
    {
      "cell_type": "markdown",
      "metadata": {
        "id": "K72AR_33I263"
      },
      "source": [
        "Is there really no way of determining the standard error of the slope with `sklean`??? Amazing! Well, let's plug this data into the linear regression algorithm in R and see what we get:\n",
        "\n",
        "```\n",
        "Call:\n",
        "lm(formula = log(Energy) ~ log(Efreq), data = df, weights = eEfreq_err)\n",
        "\n",
        "Weighted Residuals:\n",
        "    Min      1Q  Median      3Q     Max \n",
        "-5.7935 -0.9904  0.0150  1.0369  5.2923 \n",
        "\n",
        "Coefficients:\n",
        "            Estimate Std. Error t value Pr(>|t|)    \n",
        "(Intercept) 38.84215    1.13810   34.13   <2e-16 ***\n",
        "log(Efreq)  -0.44304    0.01864  -23.77   <2e-16 ***\n",
        "---\n",
        "Signif. codes:  0 ‘***’ 0.001 ‘**’ 0.01 ‘*’ 0.05 ‘.’ 0.1 ‘ ’ 1\n",
        "\n",
        "Residual standard error: 1.663 on 210 degrees of freedom\n",
        "Multiple R-squared:  0.7291,\tAdjusted R-squared:  0.7278 \n",
        "F-statistic: 565.2 on 1 and 210 DF,  p-value: < 2.2e-16\n",
        "\n",
        "```\n",
        "\n"
      ]
    },
    {
      "cell_type": "code",
      "execution_count": null,
      "metadata": {
        "colab": {
          "base_uri": "https://localhost:8080/"
        },
        "id": "mqVzWW3AqUX4",
        "outputId": "e192bd51-dde1-4cf3-feb2-fb29dd88bbd1"
      },
      "outputs": [
        {
          "output_type": "stream",
          "name": "stdout",
          "text": [
            "Alpha: -2.2571325388226797  +-  0.09496422563121784\n",
            "Beta: 1.1896356800815311e+38  +-  5.34738662911121e+38\n"
          ]
        }
      ],
      "source": [
        "# R reports the standard error of log(Efreq) as: \n",
        "log_Eqfreq_slope = -0.44304 \n",
        "error_log_Efreq_slope = 0.01864\n",
        "log_Eqfreq_intercept = 38.84215\n",
        "error_log_Efreq_intercept = 1.13810\n",
        "\n",
        "# Invert to find relationship to get Efreq(E)\n",
        "alpha_linear = 1/log_Eqfreq_slope\n",
        "std_err = (1/(log_Eqfreq_slope)**2)*(error_log_Efreq_slope) # Error propogation to determine SE of alphaIE \n",
        "beta = np.exp(-log_Eqfreq_intercept/log_Eqfreq_slope)\n",
        "std_err_b = np.sqrt(((-1/log_Eqfreq_slope)*np.exp(-log_Eqfreq_intercept/log_Eqfreq_slope)*error_log_Efreq_intercept)**2 + (log_Eqfreq_intercept*np.exp(-log_Eqfreq_intercept/log_Eqfreq_slope)*(error_log_Efreq_slope/log_Eqfreq_slope**2))**2)\n",
        "\n",
        "\n",
        "print(\"Alpha:\", alpha_linear, \" +- \", std_err)\n",
        "print(\"Beta:\", beta, \" +- \", std_err_b)"
      ]
    },
    {
      "cell_type": "markdown",
      "metadata": {
        "id": "8VAxTinvJfRj"
      },
      "source": [
        "Great, R gives us the same value for the slope! Whew! We can calculate alpha, the standard error of alpha, and the intercept based on the R data:\n",
        "\n",
        "$\\alpha = -2.257 \\pm 0.095$\n",
        "\n",
        "$\\beta = 1.190 \\pm 5.347 * 10^{38}$ \n",
        "\n",
        "Now, let's plot!"
      ]
    },
    {
      "cell_type": "code",
      "execution_count": null,
      "metadata": {
        "colab": {
          "base_uri": "https://localhost:8080/",
          "height": 288
        },
        "id": "A0KZXRh9Z5ZX",
        "outputId": "d00a9ebf-490c-4c10-974a-5dbdfe40fded"
      },
      "outputs": [
        {
          "output_type": "display_data",
          "data": {
            "text/plain": [
              "<Figure size 432x288 with 1 Axes>"
            ],
            "image/png": "[encoded data removed]"
          },
          "metadata": {
            "needs_background": "light"
          }
        }
      ],
      "source": [
        "import matplotlib.pyplot as plt\n",
        "\n",
        "plt.style.use('seaborn-colorblind')\n",
        "\n",
        "## Best fit line\n",
        "best_fit_line = beta*(CPhLARE_data.iloc[:,1]**alpha_linear)\n",
        "\n",
        "fig, ax = plt.subplots()\n",
        "\n",
        "## Plot the data with the best fit line on a log-log scale and inlcude a legend\n",
        "ax.plot(CPhLARE_data.iloc[:,1], Efreq, '.')\n",
        "ax.plot(CPhLARE_data.iloc[:,1], best_fit_line, color='orange', linewidth=3)\n",
        "\n",
        "plt.xscale('log')\n",
        "plt.yscale('log')\n",
        "plt.ylabel('Frequency (per year per erg)')\n",
        "plt.xlabel('Total Energy (ergs)')\n",
        "\n",
        "## You need to fill in the value for alpha (Hint: \"alpha\" is the slope you found\n",
        "## in the linregress function)\n",
        "plt.legend(['C-PhLARE data', 'alpha = -2.26 +- 0.09']) \n",
        "\n",
        "plt.show()"
      ]
    },
    {
      "cell_type": "markdown",
      "metadata": {
        "id": "TBsVTuyMaP0N"
      },
      "source": [
        "You can uncomment the code below to save the data."
      ]
    },
    {
      "cell_type": "code",
      "execution_count": null,
      "metadata": {
        "id": "nDP1_JdVaQPN"
      },
      "outputs": [],
      "source": [
        "## save data\n",
        "\n",
        "#data = [CPhLARE_data.iloc[:,1], Efreq]\n",
        "#headers = [\"Energy\", \"Frequency\"]\n",
        "#df = pd. concat(data, axis=1, keys=headers)\n",
        "\n",
        "#display(df)\n",
        "\n",
        "##from google.colab import files\n",
        "\n",
        "#df.to_csv('data.csv', encoding = 'utf-8-sig') \n",
        "#files.download('data.csv')"
      ]
    },
    {
      "cell_type": "markdown",
      "metadata": {
        "id": "o9jKF_leMswj"
      },
      "source": [
        "# Use MLE to find power law relationship between total energy and flare frequency"
      ]
    },
    {
      "cell_type": "markdown",
      "metadata": {
        "id": "KNL5iwvJM6Gn"
      },
      "source": [
        "D'Huys et al. (2016; https://link.springer.com/article/10.1007/s11207-016-0910-5#Sec15) looked at exactly this problem for solar physics and found that maximum likelihood estimation (MLE) is far and away the best method for finding the value of $\\alpha$. \n",
        "1. Equations 2 and 3 in that paper capture the method. \n",
        "2. The `powerlaw` package encapsulates the code to do it and makes it possible to do the fit in a single line of code. \n",
        "3. We can also do a generic MLE with all the Bayesian magic and get uncertainty from doing an MCMC, thanks to Allison's code. \n",
        "\n",
        "So, let's try all 3 methods and ensure they agree with each other. "
      ]
    },
    {
      "cell_type": "markdown",
      "metadata": {
        "id": "mlxxj0FdqhdS"
      },
      "source": [
        "### Using equations 2 and 3 from D'Huys+ 2016"
      ]
    },
    {
      "cell_type": "code",
      "execution_count": null,
      "metadata": {
        "id": "tr3KOEn8M2ZU"
      },
      "outputs": [],
      "source": [
        "def calculate_alpha_and_sigma_with_mle(x, x_min):\n",
        "  n = len(x)\n",
        "  alpha = 1 + n / np.sum(np.log(x/x_min))\n",
        "  sigma = ((alpha - 1) / np.sqrt(n)) + (1/n)\n",
        "  return alpha, sigma"
      ]
    },
    {
      "cell_type": "code",
      "execution_count": null,
      "metadata": {
        "colab": {
          "base_uri": "https://localhost:8080/"
        },
        "id": "WBUV0INhuQmP",
        "outputId": "8d19b690-258f-45fb-fe9b-5455fec3bf62"
      },
      "outputs": [
        {
          "output_type": "stream",
          "name": "stdout",
          "text": [
            "1.7474032619187616 ± 0.10197120801950582\n"
          ]
        }
      ],
      "source": [
        "data = CPhLARE_data['Energy']\n",
        "x_min = 8.36e28\n",
        "indices = np.where(data > x_min)\n",
        "alpha, sigma = calculate_alpha_and_sigma_with_mle(data.iloc[indices], x_min)\n",
        "print(alpha, '±', sigma)"
      ]
    },
    {
      "cell_type": "markdown",
      "metadata": {
        "id": "EqeJdK_nqmBh"
      },
      "source": [
        "### Using powerlaw package"
      ]
    },
    {
      "cell_type": "code",
      "execution_count": null,
      "metadata": {
        "colab": {
          "base_uri": "https://localhost:8080/"
        },
        "id": "flaydjccosam",
        "outputId": "60097b21-cfe2-495e-ce26-54f272f42a68"
      },
      "outputs": [
        {
          "output_type": "stream",
          "name": "stdout",
          "text": [
            "Calculating best minimal value for power law fit\n",
            "xmin progress: 00%\rxmin progress: 00%\rxmin progress: 01%\rxmin progress: 01%\rxmin progress: 02%\rxmin progress: 02%\rxmin progress: 03%\rxmin progress: 03%\rxmin progress: 04%\rxmin progress: 04%\rxmin progress: 05%\rxmin progress: 05%\rxmin progress: 06%\rxmin progress: 06%\rxmin progress: 07%\rxmin progress: 07%\rxmin progress: 08%\rxmin progress: 08%\rxmin progress: 09%\rxmin progress: 09%\rxmin progress: 10%\rxmin progress: 10%\rxmin progress: 11%\rxmin progress: 11%\rxmin progress: 12%\rxmin progress: 12%\rxmin progress: 13%\rxmin progress: 13%\rxmin progress: 14%\rxmin progress: 14%\rxmin progress: 15%\rxmin progress: 15%\rxmin progress: 16%\rxmin progress: 16%\rxmin progress: 17%\rxmin progress: 17%\rxmin progress: 18%\rxmin progress: 18%\rxmin progress: 19%\rxmin progress: 19%\rxmin progress: 20%\rxmin progress: 20%\rxmin progress: 21%\rxmin progress: 21%\rxmin progress: 22%\rxmin progress: 22%\rxmin progress: 23%\rxmin progress: 23%\rxmin progress: 24%\rxmin progress: 24%\rxmin progress: 25%\rxmin progress: 25%\rxmin progress: 26%\rxmin progress: 26%\rxmin progress: 27%\rxmin progress: 27%\rxmin progress: 28%\rxmin progress: 28%\rxmin progress: 29%\rxmin progress: 29%\rxmin progress: 30%\rxmin progress: 30%\rxmin progress: 31%\rxmin progress: 31%\rxmin progress: 32%\rxmin progress: 32%\rxmin progress: 33%\rxmin progress: 33%\rxmin progress: 34%\rxmin progress: 34%\rxmin progress: 35%\rxmin progress: 35%\rxmin progress: 36%\rxmin progress: 36%\rxmin progress: 37%\rxmin progress: 37%\rxmin progress: 38%\rxmin progress: 38%\rxmin progress: 39%\rxmin progress: 39%\rxmin progress: 40%\rxmin progress: 40%\rxmin progress: 41%\rxmin progress: 41%\rxmin progress: 42%\rxmin progress: 42%\rxmin progress: 43%\rxmin progress: 43%\rxmin progress: 44%\rxmin progress: 44%\rxmin progress: 45%\rxmin progress: 45%\rxmin progress: 46%\rxmin progress: 46%\rxmin progress: 47%\rxmin progress: 47%\rxmin progress: 48%\rxmin progress: 48%\rxmin progress: 49%\rxmin progress: 50%\rxmin progress: 50%\rxmin progress: 51%\rxmin progress: 51%\rxmin progress: 52%\rxmin progress: 52%\rxmin progress: 53%\rxmin progress: 53%\rxmin progress: 54%\rxmin progress: 54%\rxmin progress: 55%\rxmin progress: 55%\rxmin progress: 56%\rxmin progress: 56%\rxmin progress: 57%\rxmin progress: 57%\rxmin progress: 58%\rxmin progress: 58%\rxmin progress: 59%\rxmin progress: 59%\rxmin progress: 60%\rxmin progress: 60%\rxmin progress: 61%\rxmin progress: 61%\rxmin progress: 62%\rxmin progress: 62%\rxmin progress: 63%\rxmin progress: 63%\rxmin progress: 64%\rxmin progress: 64%\rxmin progress: 65%\rxmin progress: 65%\rxmin progress: 66%\rxmin progress: 66%\rxmin progress: 67%\rxmin progress: 67%\rxmin progress: 68%\rxmin progress: 68%\rxmin progress: 69%\rxmin progress: 69%\rxmin progress: 70%\rxmin progress: 70%\rxmin progress: 71%\rxmin progress: 71%\rxmin progress: 72%\rxmin progress: 72%\rxmin progress: 73%\rxmin progress: 73%\rxmin progress: 74%\rxmin progress: 74%\rxmin progress: 75%\rxmin progress: 75%\rxmin progress: 76%\rxmin progress: 76%\rxmin progress: 77%\rxmin progress: 77%\rxmin progress: 78%\rxmin progress: 78%\rxmin progress: 79%\rxmin progress: 79%\rxmin progress: 80%\rxmin progress: 80%\rxmin progress: 81%\rxmin progress: 81%\rxmin progress: 82%\rxmin progress: 82%\rxmin progress: 83%\rxmin progress: 83%\rxmin progress: 84%\rxmin progress: 84%\rxmin progress: 85%\rxmin progress: 85%\rxmin progress: 86%\rxmin progress: 86%\rxmin progress: 87%\rxmin progress: 87%\rxmin progress: 88%\rxmin progress: 88%\rxmin progress: 89%\rxmin progress: 89%\rxmin progress: 90%\rxmin progress: 90%\rxmin progress: 91%\rxmin progress: 91%\rxmin progress: 92%\rxmin progress: 92%\rxmin progress: 93%\rxmin progress: 93%\rxmin progress: 94%\rxmin progress: 94%\rxmin progress: 95%\rxmin progress: 95%\rxmin progress: 96%\rxmin progress: 96%\rxmin progress: 97%\rxmin progress: 97%\rxmin progress: 98%\rxmin progress: 98%\rxmin progress: 99%\ralpha =  1.7577838627787445 ± 0.08869189262633945\n",
            "x_min =  8.36e+28\n"
          ]
        }
      ],
      "source": [
        "import powerlaw\n",
        "data = CPhLARE_data['Energy'].values\n",
        "results = powerlaw.Fit(data)\n",
        "print('alpha = ', results.power_law.alpha, '±', results.power_law.sigma)\n",
        "print('x_min = ', results.power_law.xmin)"
      ]
    },
    {
      "cell_type": "code",
      "execution_count": null,
      "metadata": {
        "colab": {
          "base_uri": "https://localhost:8080/",
          "height": 286
        },
        "id": "YHW85oMHs_C1",
        "outputId": "a8930b04-e3c9-4d98-f514-df51918a01ac"
      },
      "outputs": [
        {
          "output_type": "execute_result",
          "data": {
            "text/plain": [
              "<matplotlib.axes._subplots.AxesSubplot at 0x7fec731bcbb0>"
            ]
          },
          "metadata": {},
          "execution_count": 31
        },
        {
          "output_type": "display_data",
          "data": {
            "text/plain": [
              "<Figure size 432x288 with 1 Axes>"
            ],
            "image/png": "[encoded data removed]"
          },
          "metadata": {
            "needs_background": "light"
          }
        }
      ],
      "source": [
        "results.plot_pdf()"
      ]
    },
    {
      "cell_type": "markdown",
      "metadata": {
        "id": "eQfT4bcV7E5f"
      },
      "source": [
        "### Using Allison's code to do a generic MLE inside an MCMC run. "
      ]
    },
    {
      "cell_type": "code",
      "execution_count": null,
      "metadata": {
        "id": "w36oMoQzeOX-"
      },
      "outputs": [],
      "source": [
        "nwalkers = 200\n",
        "nsteps = 3000\n",
        "burnin = 500\n",
        "np.random.seed(1281)\n",
        "start_uniform = True\n",
        "nruns = 1\n",
        "fresh_start = True \n",
        "perform_error = False"
      ]
    },
    {
      "cell_type": "code",
      "execution_count": null,
      "metadata": {
        "colab": {
          "base_uri": "https://localhost:8080/",
          "height": 345
        },
        "id": "yXfZxto5M159",
        "outputId": "a4bf0fb0-4055-4e85-d73f-5edbc21c8335"
      },
      "outputs": [
        {
          "output_type": "display_data",
          "data": {
            "text/plain": [
              "<Figure size 504x360 with 1 Axes>"
            ],
            "image/png": "[encoded data removed]"
          },
          "metadata": {}
        }
      ],
      "source": [
        "import scipy.optimize as op\n",
        "from lyapy import lyapy\n",
        "from lyapy.fitting import *\n",
        "from lyapy import lya_plot\n",
        "\n",
        "x = np.log10(CPhLARE_data['Energy'].values)\n",
        "y = np.log10(Efreq)\n",
        "yerr = Efreq_err/Efreq / np.log(10)\n",
        "\n",
        "# must be a list - this gives the option of fitting multiple lines at once (you probably won't be doing that though)\n",
        "x_to_fit = [x]\n",
        "y_to_fit = [y]\n",
        "yerr_to_fit = [yerr]\n",
        "\n",
        "plt.errorbar(x,y,yerr=yerr,fmt='ko',label='Input Data')\n",
        "plt.xlabel('flare energies [erg]',fontsize=20)\n",
        "plt.ylabel('frequency [#/year/erg]',fontsize=20)\n",
        "\n",
        "def my_model(x_to_fit, resolution, parameters, variables,lnlike=True,convolve=False):\n",
        "    x = x_to_fit[0]\n",
        "    m, b = parameters\n",
        "    y_model = m * x + b\n",
        "    return [y_model] # must be a list\n",
        "\n",
        "variables_order = ['m', 'b']\n",
        "\n",
        "\n",
        "variables = make_parameter_dictionary(variables_order)\n",
        "\n",
        "p = 'm'\n",
        "variables[p]['texname'] = 'm'\n",
        "variables[p]['value'] = -3\n",
        "variables[p]['vary'] = True \n",
        "variables[p]['scale'] = 0.5\n",
        "variables[p]['min'] = -3\n",
        "variables[p]['max'] = -1\n",
        "variables[p]['my model'] = my_model\n",
        "variables[p]['Gaussian prior'] = False\n",
        "variables[p]['prior mean'] = -3\n",
        "variables[p]['prior stddev'] = 0.6\n",
        "\n",
        "\n",
        "p = 'b'\n",
        "variables[p]['texname'] = 'b'\n",
        "variables[p]['value'] = 38.08\n",
        "variables[p]['vary'] = True\n",
        "variables[p]['scale'] = 0.05\n",
        "variables[p]['min'] = 0\n",
        "variables[p]['max'] = 100\n",
        "# ([-2, 1.2e38])\n",
        "\n",
        "\n",
        "perform_variable_check(variables)"
      ]
    },
    {
      "cell_type": "code",
      "execution_count": null,
      "metadata": {
        "colab": {
          "base_uri": "https://localhost:8080/"
        },
        "id": "ewlZs_z_fZUT",
        "outputId": "c5efb024-1799-4f7c-8e58-78456efcc55a"
      },
      "outputs": [
        {
          "output_type": "stream",
          "name": "stdout",
          "text": [
            "Varying:  ['m', 'b']\n",
            "m -3\n",
            "b 38.08\n"
          ]
        }
      ],
      "source": [
        "if not perform_error:\n",
        "    sampler, pos0 = setup_sampler(x_to_fit, y_to_fit, yerr_to_fit, None,\n",
        "                              nwalkers, variables, variables_order, my_model, None, start_uniform)"
      ]
    },
    {
      "cell_type": "code",
      "execution_count": null,
      "metadata": {
        "colab": {
          "base_uri": "https://localhost:8080/"
        },
        "id": "Sb2rVEVG_hVE",
        "outputId": "84560e41-b74f-44c9-98ad-af8cce3629c1"
      },
      "outputs": [
        {
          "output_type": "stream",
          "name": "stdout",
          "text": [
            "Run #1\n",
            "Fresh start\n",
            "Done.\n",
            "Time to complete MCMC #1: 472.2 seconds\n",
            "Saving option 1\n",
            "m [-1.6909255153093374, -1.6614219211928136, -1.6309874852512278, -1.6003221609847529, -1.5711477181443774]\n",
            "b [18.156910126031523, 18.99524992742494, 19.878170462768193, 20.752843454989293, 21.598437443157906]\n"
          ]
        }
      ],
      "source": [
        "# Perform MCMC\n",
        "if not perform_error:\n",
        "    sampler_chain = perform_mcmc(sampler, pos0, nsteps, nruns=nruns, fresh_start = fresh_start)\n",
        "else:\n",
        "    sampler_chain = get_sampler_chain()\n",
        "\n",
        "\n",
        "ndim = 0\n",
        "for p in variables:\n",
        "    if variables[p]['vary']:\n",
        "        ndim += 1\n",
        "\n",
        "samples = sampler_chain[:, burnin:, :].reshape((-1, ndim))\n",
        "\n",
        "\n",
        "best, variables = extract_best_fit_parameters(samples, variables, variables_order)"
      ]
    },
    {
      "cell_type": "code",
      "execution_count": null,
      "metadata": {
        "colab": {
          "base_uri": "https://localhost:8080/",
          "height": 351
        },
        "id": "82rxqk3efrRi",
        "outputId": "58a01a2f-9a88-4be8-9f47-2efe9aa1bab0"
      },
      "outputs": [
        {
          "output_type": "stream",
          "name": "stdout",
          "text": [
            "Mean acceptance fraction: 0.708\n",
            "should be between 0.25 and 0.5\n"
          ]
        },
        {
          "output_type": "display_data",
          "data": {
            "text/plain": [
              "<Figure size 360x288 with 2 Axes>"
            ],
            "image/png": "[encoded data removed]"
          },
          "metadata": {
            "needs_background": "light"
          }
        }
      ],
      "source": [
        "if not perform_error:\n",
        "    print(\"Mean acceptance fraction: {0:.3f}\".format(np.mean(sampler.acceptance_fraction)))\n",
        "    print(\"should be between 0.25 and 0.5\")\n",
        "\n",
        "\n",
        "make_convergence_plot(sampler_chain, ndim, burnin)"
      ]
    },
    {
      "cell_type": "code",
      "execution_count": null,
      "metadata": {
        "colab": {
          "base_uri": "https://localhost:8080/",
          "height": 821
        },
        "id": "uczx9GLyfwMg",
        "outputId": "47e5fe48-56c9-43e3-e2b6-d1a8cc770bdb"
      },
      "outputs": [
        {
          "output_type": "stream",
          "name": "stdout",
          "text": [
            "Quantiles:\n",
            "[(0.025, -1.6909255153093374), (0.975, -1.5711477181443774)]\n",
            "Quantiles:\n",
            "[(0.025, 18.156910126031523), (0.975, 21.598437443157906)]\n"
          ]
        },
        {
          "output_type": "display_data",
          "data": {
            "text/plain": [
              "<Figure size 576x144 with 2 Axes>"
            ],
            "image/png": "[encoded data removed]"
          },
          "metadata": {
            "needs_background": "light"
          }
        },
        {
          "output_type": "display_data",
          "data": {
            "text/plain": [
              "<Figure size 900x648 with 4 Axes>"
            ],
            "image/png": "[encoded data removed]"
          },
          "metadata": {
            "needs_background": "light"
          }
        }
      ],
      "source": [
        "subset=True if sampler_chain.shape[1] > 1e5 else False\n",
        "lya_plot.walkers(sampler_chain, variables, variables_order, burnin, subset=subset)\n",
        "\n",
        "make_corner_plot(samples, best, variables, variables_order, ndim)\n",
        "\n",
        "\n",
        "#line_percentiles_to_store_dic, reconstructed_fluxes_dic = profile_plot(x_to_fit, y_to_fit, yerr_to_fit, None, samples, my_model, variables, variables_order, perform_error=perform_error, thin_out=1)\n"
      ]
    },
    {
      "cell_type": "code",
      "execution_count": null,
      "metadata": {
        "colab": {
          "base_uri": "https://localhost:8080/",
          "height": 346
        },
        "id": "HSs6ddnQjRpX",
        "outputId": "666d36c9-818d-42a1-d0a1-5ad2df225c0a"
      },
      "outputs": [
        {
          "output_type": "stream",
          "name": "stdout",
          "text": [
            "Best fit m, b = \n",
            "-1.6309874852512278 19.878170462768193\n",
            "916.3527985773434 -452.8198130139997\n"
          ]
        },
        {
          "output_type": "display_data",
          "data": {
            "text/plain": [
              "<Figure size 432x288 with 1 Axes>"
            ],
            "image/png": "[encoded data removed]"
          },
          "metadata": {
            "needs_background": "light"
          }
        }
      ],
      "source": [
        "plt.errorbar(x, y, yerr=yerr, fmt='ko', label='Input Data')\n",
        "plt.xlabel('flare energies [erg]',fontsize=20)\n",
        "plt.ylabel('frequency [#/year/erg]',fontsize=20)\n",
        "\n",
        "print(\"Best fit m, b = \")\n",
        "print(best[0,2], best[1,2])\n",
        "\n",
        "for i in range(len(samples)):\n",
        "  if i%10000 == 0:\n",
        "    m_i = samples[i,0]\n",
        "    b_i = samples[i,1]\n",
        "    y_model_i = my_model(x_to_fit, None, [m_i,b_i], variables)\n",
        "    plt.plot(x,y_model_i[0],color='k',alpha=0.1,linewidth=0.3)\n",
        "\n",
        "y_model = my_model(x_to_fit,None, [best[0,2],best[1,2]], variables)\n",
        "plt.plot(x,y_model[0],color='r',label='Best Fit')\n",
        "plt.legend()\n",
        "plt.tight_layout()\n",
        "\n",
        "lnlikelihood = (-0.5*np.sum( (y-y_model[0])**2/yerr**2 + np.log(2*np.pi*yerr**2)))\n",
        "bic = 2.* np.log(float(len(x))) - 2.* lnlikelihood\n",
        "print(bic, lnlikelihood)"
      ]
    },
    {
      "cell_type": "code",
      "execution_count": null,
      "metadata": {
        "id": "mlf8gV71xZBe"
      },
      "outputs": [],
      "source": [
        "# Store variables for use later in notebook\n",
        "\n",
        "x_mcmc = x\n",
        "y_mcmc = y\n",
        "yerr_mcmc = yerr\n",
        "y_model_mcmc = y_model[0]\n",
        "\n",
        "\n",
        "beta_mcmc = 10**best[1,2]\n",
        "alpha_mcmc = best[0,2]\n",
        "error_approx_mcmc = mean([abs(best[0,2] - best[0,3]), abs(best[0,2] - best[0,1])])"
      ]
    },
    {
      "cell_type": "markdown",
      "metadata": {
        "id": "0txUrOBdrrNm"
      },
      "source": [
        "### Compare the methods"
      ]
    },
    {
      "cell_type": "code",
      "execution_count": null,
      "metadata": {
        "colab": {
          "base_uri": "https://localhost:8080/"
        },
        "id": "EAHkmGASrvRX",
        "outputId": "8e2c3928-256c-4e92-be6a-7647a036265b"
      },
      "outputs": [
        {
          "output_type": "stream",
          "name": "stdout",
          "text": [
            "Linear fit:             2.2571325388226797 ± 0.09496422563121784\n",
            "D'Huys+ 2016 equations: 1.7474032619187616 ± 0.08869189262633945\n",
            "`powerlaw` package:     1.7577838627787445 ± 0.08869189262633945\n",
            "MCMC MLE:               1.6309874852512278 ± 0.03054988010403037\n"
          ]
        }
      ],
      "source": [
        "print('Linear fit:            ', abs(alpha_linear), '±', std_err)\n",
        "print(\"D'Huys+ 2016 equations:\", alpha, '±', results.power_law.sigma)\n",
        "print('`powerlaw` package:    ', results.power_law.alpha, '±', results.power_law.sigma)\n",
        "print('MCMC MLE:              ', abs(alpha_mcmc), '±', error_approx_mcmc)"
      ]
    },
    {
      "cell_type": "markdown",
      "metadata": {
        "id": "pw4hAWenJtZl"
      },
      "source": [
        "\n",
        "# **Histogram of chosen flare dates**\n"
      ]
    },
    {
      "cell_type": "code",
      "execution_count": null,
      "metadata": {
        "colab": {
          "base_uri": "https://localhost:8080/",
          "height": 424
        },
        "id": "9DLxOO5_J4QI",
        "outputId": "41c65456-bc70-4a89-e301-b6edc78c2016"
      },
      "outputs": [
        {
          "output_type": "display_data",
          "data": {
            "text/plain": [
              "    Date of Flare Peak\n",
              "0              1/14/11\n",
              "1              1/28/11\n",
              "2              2/13/11\n",
              "3              2/15/11\n",
              "4              2/24/11\n",
              "..                 ...\n",
              "207            5/28/17\n",
              "208             7/8/17\n",
              "209            9/10/17\n",
              "210            9/27/17\n",
              "211            2/10/18\n",
              "\n",
              "[212 rows x 1 columns]"
            ],
            "text/html": [
              "\n",
              "  <div id=\"df-d1545717-4c6f-48ab-aa69-ad2fbbd4dcb9\">\n",
              "    <div class=\"colab-df-container\">\n",
              "      <div>\n",
              "<style scoped>\n",
              "    .dataframe tbody tr th:only-of-type {\n",
              "        vertical-align: middle;\n",
              "    }\n",
              "\n",
              "    .dataframe tbody tr th {\n",
              "        vertical-align: top;\n",
              "    }\n",
              "\n",
              "    .dataframe thead th {\n",
              "        text-align: right;\n",
              "    }\n",
              "</style>\n",
              "<table border=\"1\" class=\"dataframe\">\n",
              "  <thead>\n",
              "    <tr style=\"text-align: right;\">\n",
              "      <th></th>\n",
              "      <th>Date of Flare Peak</th>\n",
              "    </tr>\n",
              "  </thead>\n",
              "  <tbody>\n",
              "    <tr>\n",
              "      <th>0</th>\n",
              "      <td>1/14/11</td>\n",
              "    </tr>\n",
              "    <tr>\n",
              "      <th>1</th>\n",
              "      <td>1/28/11</td>\n",
              "    </tr>\n",
              "    <tr>\n",
              "      <th>2</th>\n",
              "      <td>2/13/11</td>\n",
              "    </tr>\n",
              "    <tr>\n",
              "      <th>3</th>\n",
              "      <td>2/15/11</td>\n",
              "    </tr>\n",
              "    <tr>\n",
              "      <th>4</th>\n",
              "      <td>2/24/11</td>\n",
              "    </tr>\n",
              "    <tr>\n",
              "      <th>...</th>\n",
              "      <td>...</td>\n",
              "    </tr>\n",
              "    <tr>\n",
              "      <th>207</th>\n",
              "      <td>5/28/17</td>\n",
              "    </tr>\n",
              "    <tr>\n",
              "      <th>208</th>\n",
              "      <td>7/8/17</td>\n",
              "    </tr>\n",
              "    <tr>\n",
              "      <th>209</th>\n",
              "      <td>9/10/17</td>\n",
              "    </tr>\n",
              "    <tr>\n",
              "      <th>210</th>\n",
              "      <td>9/27/17</td>\n",
              "    </tr>\n",
              "    <tr>\n",
              "      <th>211</th>\n",
              "      <td>2/10/18</td>\n",
              "    </tr>\n",
              "  </tbody>\n",
              "</table>\n",
              "<p>212 rows × 1 columns</p>\n",
              "</div>\n",
              "      <button class=\"colab-df-convert\" onclick=\"convertToInteractive('df-d1545717-4c6f-48ab-aa69-ad2fbbd4dcb9')\"\n",
              "              title=\"Convert this dataframe to an interactive table.\"\n",
              "              style=\"display:none;\">\n",
              "        \n",
              "  <svg xmlns=\"http://www.w3.org/2000/svg\" height=\"24px\"viewBox=\"0 0 24 24\"\n",
              "       width=\"24px\">\n",
              "    <path d=\"M0 0h24v24H0V0z\" fill=\"none\"/>\n",
              "    <path d=\"M18.56 5.44l.94 2.06.94-2.06 2.06-.94-2.06-.94-.94-2.06-.94 2.06-2.06.94zm-11 1L8.5 8.5l.94-2.06 2.06-.94-2.06-.94L8.5 2.5l-.94 2.06-2.06.94zm10 10l.94 2.06.94-2.06 2.06-.94-2.06-.94-.94-2.06-.94 2.06-2.06.94z\"/><path d=\"M17.41 7.96l-1.37-1.37c-.4-.4-.92-.59-1.43-.59-.52 0-1.04.2-1.43.59L10.3 9.45l-7.72 7.72c-.78.78-.78 2.05 0 2.83L4 21.41c.39.39.9.59 1.41.59.51 0 1.02-.2 1.41-.59l7.78-7.78 2.81-2.81c.8-.78.8-2.07 0-2.86zM5.41 20L4 18.59l7.72-7.72 1.47 1.35L5.41 20z\"/>\n",
              "  </svg>\n",
              "      </button>\n",
              "      \n",
              "  <style>\n",
              "    .colab-df-container {\n",
              "      display:flex;\n",
              "      flex-wrap:wrap;\n",
              "      gap: 12px;\n",
              "    }\n",
              "\n",
              "    .colab-df-convert {\n",
              "      background-color: #E8F0FE;\n",
              "      border: none;\n",
              "      border-radius: 50%;\n",
              "      cursor: pointer;\n",
              "      display: none;\n",
              "      fill: #1967D2;\n",
              "      height: 32px;\n",
              "      padding: 0 0 0 0;\n",
              "      width: 32px;\n",
              "    }\n",
              "\n",
              "    .colab-df-convert:hover {\n",
              "      background-color: #E2EBFA;\n",
              "      box-shadow: 0px 1px 2px rgba(60, 64, 67, 0.3), 0px 1px 3px 1px rgba(60, 64, 67, 0.15);\n",
              "      fill: #174EA6;\n",
              "    }\n",
              "\n",
              "    [theme=dark] .colab-df-convert {\n",
              "      background-color: #3B4455;\n",
              "      fill: #D2E3FC;\n",
              "    }\n",
              "\n",
              "    [theme=dark] .colab-df-convert:hover {\n",
              "      background-color: #434B5C;\n",
              "      box-shadow: 0px 1px 3px 1px rgba(0, 0, 0, 0.15);\n",
              "      filter: drop-shadow(0px 1px 2px rgba(0, 0, 0, 0.3));\n",
              "      fill: #FFFFFF;\n",
              "    }\n",
              "  </style>\n",
              "\n",
              "      <script>\n",
              "        const buttonEl =\n",
              "          document.querySelector('#df-d1545717-4c6f-48ab-aa69-ad2fbbd4dcb9 button.colab-df-convert');\n",
              "        buttonEl.style.display =\n",
              "          google.colab.kernel.accessAllowed ? 'block' : 'none';\n",
              "\n",
              "        async function convertToInteractive(key) {\n",
              "          const element = document.querySelector('#df-d1545717-4c6f-48ab-aa69-ad2fbbd4dcb9');\n",
              "          const dataTable =\n",
              "            await google.colab.kernel.invokeFunction('convertToInteractive',\n",
              "                                                     [key], {});\n",
              "          if (!dataTable) return;\n",
              "\n",
              "          const docLinkHtml = 'Like what you see? Visit the ' +\n",
              "            '<a target=\"_blank\" href=https://colab.research.google.com/notebooks/data_table.ipynb>data table notebook</a>'\n",
              "            + ' to learn more about interactive tables.';\n",
              "          element.innerHTML = '';\n",
              "          dataTable['output_type'] = 'display_data';\n",
              "          await google.colab.output.renderOutput(dataTable, element);\n",
              "          const docLink = document.createElement('div');\n",
              "          docLink.innerHTML = docLinkHtml;\n",
              "          element.appendChild(docLink);\n",
              "        }\n",
              "      </script>\n",
              "    </div>\n",
              "  </div>\n",
              "  "
            ]
          },
          "metadata": {}
        }
      ],
      "source": [
        "import pandas as pd\n",
        "\n",
        "flaredates = pd.read_csv('CPhLARE_dates.csv')     # Import data using pandas library\n",
        "\n",
        "display(flaredates)       # Display the dataframe of the list of flares"
      ]
    },
    {
      "cell_type": "code",
      "execution_count": null,
      "metadata": {
        "colab": {
          "base_uri": "https://localhost:8080/",
          "height": 287
        },
        "id": "bWt0kB4BJ4kN",
        "outputId": "4983a5c3-0b1c-4431-bd00-d1ccb30c27c0"
      },
      "outputs": [
        {
          "output_type": "display_data",
          "data": {
            "text/plain": [
              "<Figure size 432x288 with 1 Axes>"
            ],
            "image/png": "[encoded data removed]"
          },
          "metadata": {
            "needs_background": "light"
          }
        }
      ],
      "source": [
        "import numpy as np\n",
        "import matplotlib.pyplot as plt\n",
        "import pandas as pd\n",
        "\n",
        "# convert column to datetime\n",
        "flaredates1 = pd.to_datetime(flaredates.iloc[:,0])\n",
        "\n",
        "plt.hist(flaredates1, 20)\n",
        "plt.xlabel('Date of flare peak')\n",
        "plt.ylabel('Number of flares')\n",
        "plt.show()"
      ]
    },
    {
      "cell_type": "markdown",
      "metadata": {
        "id": "3NPUMHbBEj7E"
      },
      "source": [
        "# **Supplemental Code**"
      ]
    },
    {
      "cell_type": "markdown",
      "metadata": {
        "id": "dysiwK3EBhza"
      },
      "source": [
        "## Computing the flare frequency from the given peak irradiance\n",
        "### Comparison of fitting algorithms"
      ]
    },
    {
      "cell_type": "code",
      "execution_count": null,
      "metadata": {
        "id": "11rnj3AE_4K9"
      },
      "outputs": [],
      "source": [
        "from numpy import arange\n",
        "from numpy import mean\n",
        "from numpy import std\n",
        "from numpy import absolute\n",
        "from sklearn.datasets import make_regression\n",
        "from sklearn.model_selection import cross_val_score\n",
        "from sklearn.model_selection import RepeatedKFold\n",
        "from sklearn.linear_model import LinearRegression\n",
        "from sklearn.linear_model import HuberRegressor\n",
        "from sklearn.linear_model import RANSACRegressor\n",
        "from sklearn.linear_model import TheilSenRegressor\n",
        "import statsmodels.api as sm\n",
        "from matplotlib import pyplot"
      ]
    },
    {
      "cell_type": "code",
      "execution_count": null,
      "metadata": {
        "id": "KH82gclE_4uF"
      },
      "outputs": [],
      "source": [
        "# reformat dataset\n",
        "y = np.log(CPhLARE_data.iloc[:,1])    ## the x data for the linear regression is the energies (\"I\")\n",
        "X = np.log(CPhLARE_data.iloc[:,0])     ## the y data for the linear regression is the irradiance (\"E\")\n",
        "\n",
        "X = X.to_numpy()\n",
        "y = y.to_numpy()\n",
        "\n",
        "X = np.reshape(X, (-1,1))"
      ]
    },
    {
      "cell_type": "code",
      "execution_count": null,
      "metadata": {
        "colab": {
          "base_uri": "https://localhost:8080/",
          "height": 338
        },
        "id": "tsAmkDJd_5Fs",
        "outputId": "17cc6690-c45d-45a8-e653-321d1e890318"
      },
      "outputs": [
        {
          "output_type": "stream",
          "name": "stdout",
          "text": [
            ">Linear 0.751 (0.151)\n",
            ">Huber 0.747 (0.150)\n",
            ">RANSAC 0.783 (0.155)\n",
            ">TheilSen 0.747 (0.150)\n"
          ]
        },
        {
          "output_type": "display_data",
          "data": {
            "text/plain": [
              "<Figure size 432x288 with 1 Axes>"
            ],
            "image/png": "[encoded data removed]"
          },
          "metadata": {
            "needs_background": "light"
          }
        }
      ],
      "source": [
        "# compare robust regression algorithms\n",
        "\n",
        "# dictionary of model names and model objects\n",
        "def get_models():\n",
        "\tmodels = dict()\n",
        "\tmodels['Linear'] = LinearRegression()\n",
        "\tmodels['Huber'] = HuberRegressor()\n",
        "\tmodels['RANSAC'] = RANSACRegressor()\n",
        "\tmodels['TheilSen'] = TheilSenRegressor()\n",
        "\treturn models\n",
        "\n",
        "# evaluate a model\n",
        "def evalute_model(X, y, model, name):\n",
        "\t# define model evaluation method\n",
        "\tcv = RepeatedKFold(n_splits=10, n_repeats=3, random_state=1)\n",
        "\t# evaluate model\n",
        "\tscores = cross_val_score(model, X, y, scoring='neg_mean_absolute_error', cv=cv, n_jobs=-1)\n",
        "\t# force scores to be positive\n",
        "\tscores = absolute(scores)\n",
        "\treturn scores\n",
        "\n",
        "# retrieve models\n",
        "models = get_models()\n",
        "results = dict()\n",
        "for name, model in models.items():\n",
        "\t# evaluate the model\n",
        "\tresults[name] = evalute_model(X, y, model, name)\n",
        "\t# summarize progress\n",
        "\tprint('>%s %.3f (%.3f)' % (name, mean(results[name]), std(results[name])))\n",
        "# plot model performance for comparison\n",
        "pyplot.boxplot(results.values(), labels=results.keys(), showmeans=True)\n",
        "pyplot.show()\n",
        "\n"
      ]
    },
    {
      "cell_type": "code",
      "execution_count": null,
      "metadata": {
        "colab": {
          "base_uri": "https://localhost:8080/",
          "height": 289
        },
        "id": "lZTB1WhfAdYA",
        "outputId": "fcb1e368-4cdd-4d73-aad0-69e1c3553ed2"
      },
      "outputs": [
        {
          "output_type": "display_data",
          "data": {
            "text/plain": [
              "<Figure size 432x288 with 1 Axes>"
            ],
            "image/png": "[encoded data removed]"
          },
          "metadata": {
            "needs_background": "light"
          }
        }
      ],
      "source": [
        "# dictionary of model names and model objects\n",
        "def get_models():\n",
        "\tmodels = list()\n",
        "\tmodels.append(LinearRegression())\n",
        "\tmodels.append(HuberRegressor())\n",
        "\tmodels.append(RANSACRegressor())\n",
        "\tmodels.append(TheilSenRegressor())\n",
        "\treturn models\n",
        " \n",
        "# plot the dataset and the model's line of best fit\n",
        "def plot_best_fit(X, y, xaxis, model):\n",
        "\t# fit the model on all data\n",
        "\tmodel.fit(X, y)\n",
        "\t# calculate outputs for grid across the domain\n",
        "\tyaxis = model.predict(xaxis.reshape((len(xaxis), 1)))\n",
        "\t# plot the line of best fit\n",
        "\tpyplot.plot(xaxis, yaxis, label=type(model).__name__)\n",
        " \n",
        "\n",
        "# define a uniform grid across the input domain\n",
        "xaxis = arange(X.min(), X.max(), 0.01)\n",
        "for model in get_models():\n",
        "\t# plot the line of best fit\n",
        "\tplot_best_fit(X, y, xaxis, model)\n",
        "# plot the dataset\n",
        "pyplot.scatter(X, y, s = 10)\n",
        "# show the plot\n",
        "pyplot.title('Robust Regression')\n",
        "pyplot.legend()\n",
        "pyplot.show()"
      ]
    },
    {
      "cell_type": "code",
      "execution_count": null,
      "metadata": {
        "colab": {
          "base_uri": "https://localhost:8080/"
        },
        "id": "olqEzwHR_5Yi",
        "outputId": "a151da15-9977-41b8-e4ae-05414e44127a"
      },
      "outputs": [
        {
          "output_type": "stream",
          "name": "stdout",
          "text": [
            "Linear regression slope: [-0.45936763]\n",
            "Linear regression alpha:  [-2.17690567] +-\n",
            "Huber regression slope [-0.47980934]\n",
            "Huber regression alpha: [-2.08416116]\n",
            "RANSAC regression slope: [-0.45947017]\n",
            "RANSAC regression alpha: [-2.17641986]\n",
            "Theil Sen regression slope: [-0.47237892]\n",
            "Theil Sen regression alpha: [-2.1169446]\n"
          ]
        }
      ],
      "source": [
        "# Compare alphas\n",
        "\n",
        "model = LinearRegression()\n",
        "\n",
        "reg = model.fit(X, y)\n",
        "\n",
        "lr_EIslope = reg.coef_\n",
        "lr_EIintercept = reg.intercept_\n",
        "lr_IEalpha = 1/lr_EIslope\n",
        "lr_IEbeta = np.exp(-lr_EIintercept/lr_EIslope)\n",
        "#lr_EIbest_fit_line = lr_IEslope*X+lr_IEintercept\n",
        "\n",
        "print(\"Linear regression slope:\", lr_EIslope)\n",
        "print(\"Linear regression alpha: \", lr_IEalpha, \"+-\", )\n",
        "\n",
        "model = HuberRegressor()\n",
        "\n",
        "reg = model.fit(X, y)\n",
        "\n",
        "H_EIslope = reg.coef_\n",
        "H_EIintercept = reg.intercept_\n",
        "H_IEalpha = 1/H_EIslope\n",
        "H_IEbeta = np.exp(-H_EIintercept/H_EIslope)\n",
        "#H_IEbest_fit_line = H_IEslope*X+H_IEintercept\n",
        "\n",
        "print(\"Huber regression slope\", H_EIslope)\n",
        "print(\"Huber regression alpha:\", H_IEalpha)\n",
        "\n",
        "\n",
        "model = RANSACRegressor()\n",
        "\n",
        "reg = model.fit(X, y)\n",
        "\n",
        "R_EIslope = model.estimator_.coef_\n",
        "R_EIintercept = model.estimator_.intercept_\n",
        "R_IEalpha = 1/R_EIslope\n",
        "R_IEbeta = np.exp(-R_EIintercept/R_EIslope)\n",
        "#R_IEbest_fit_line = R_IEslope*X+R_IEintercept\n",
        "\n",
        "print(\"RANSAC regression slope:\", R_EIslope)\n",
        "print(\"RANSAC regression alpha:\", R_IEalpha)\n",
        "\n",
        "model = TheilSenRegressor()\n",
        "\n",
        "reg = model.fit(X, y)\n",
        "\n",
        "TS_EIslope = reg.coef_\n",
        "TS_EIintercept = reg.intercept_\n",
        "TS_IEalpha = 1/TS_EIslope\n",
        "TS_IEbeta = np.exp(-TS_EIintercept/TS_EIslope)\n",
        "#TS_IEbest_fit_line = TS_IEslope*X+TS_IEintercept\n",
        "\n",
        "print(\"Theil Sen regression slope:\", TS_EIslope)\n",
        "print(\"Theil Sen regression alpha:\", TS_IEalpha)"
      ]
    },
    {
      "cell_type": "markdown",
      "metadata": {
        "id": "5jXIEt_4Bved"
      },
      "source": [
        "## Finding the power law relationshiop between total energy and flare frequency\n",
        "### Comparison of fitting algorithms"
      ]
    },
    {
      "cell_type": "code",
      "execution_count": null,
      "metadata": {
        "id": "o692CXCjB5HN"
      },
      "outputs": [],
      "source": [
        "# reformat dataset\n",
        "y = np.log(CPhLARE_data.iloc[:,1])    ## the x data for the linear regression is the energies (\"E\")\n",
        "X = np.log(Efreq)      ## the y data for the linear regression is the irradiance (\"I\")\n",
        "\n",
        "X = X.to_numpy()\n",
        "y = y.to_numpy()\n",
        "\n",
        "X = np.reshape(X, (-1,1))\n"
      ]
    },
    {
      "cell_type": "code",
      "execution_count": null,
      "metadata": {
        "colab": {
          "base_uri": "https://localhost:8080/"
        },
        "id": "_UNBIGKiB9rf",
        "outputId": "e1bd9e4e-e7be-47c7-92dd-c15d9548b47d"
      },
      "outputs": [
        {
          "output_type": "stream",
          "name": "stdout",
          "text": [
            ">Linear 0.741 (0.149)\n",
            ">Huber 0.737 (0.148)\n",
            ">RANSAC 0.751 (0.146)\n",
            ">TheilSen 0.743 (0.149)\n"
          ]
        },
        {
          "output_type": "display_data",
          "data": {
            "text/plain": [
              "<Figure size 432x288 with 1 Axes>"
            ],
            "image/png": "[encoded data removed]"
          },
          "metadata": {
            "needs_background": "light"
          }
        }
      ],
      "source": [
        "# compare robust regression algorithms\n",
        "\n",
        "# dictionary of model names and model objects\n",
        "def get_models():\n",
        "\tmodels = dict()\n",
        "\tmodels['Linear'] = LinearRegression()\n",
        "\tmodels['Huber'] = HuberRegressor()\n",
        "\tmodels['RANSAC'] = RANSACRegressor()\n",
        "\tmodels['TheilSen'] = TheilSenRegressor()\n",
        "\treturn models\n",
        "\n",
        "# evaluate a model\n",
        "def evalute_model(X, y, model, name):\n",
        "\t# define model evaluation method\n",
        "\tcv = RepeatedKFold(n_splits=10, n_repeats=3, random_state=1)\n",
        "\t# evaluate model\n",
        "\tscores = cross_val_score(model, X, y, scoring='neg_mean_absolute_error', cv=cv, n_jobs=-1)\n",
        "\t# force scores to be positive\n",
        "\tscores = absolute(scores)\n",
        "\treturn scores\n",
        "\n",
        "# retrieve models\n",
        "models = get_models()\n",
        "results = dict()\n",
        "for name, model in models.items():\n",
        "\t# evaluate the model\n",
        "\tresults[name] = evalute_model(X, y, model, name)\n",
        "\t# summarize progress\n",
        "\tprint('>%s %.3f (%.3f)' % (name, mean(results[name]), std(results[name])))\n",
        "# plot model performance for comparison\n",
        "pyplot.boxplot(results.values(), labels=results.keys(), showmeans=True)\n",
        "pyplot.show()"
      ]
    },
    {
      "cell_type": "code",
      "execution_count": null,
      "metadata": {
        "colab": {
          "base_uri": "https://localhost:8080/"
        },
        "id": "hhKhX9i9B98U",
        "outputId": "6081f42e-78f1-4b9f-e690-17ed72e5d892"
      },
      "outputs": [
        {
          "output_type": "display_data",
          "data": {
            "text/plain": [
              "<Figure size 432x288 with 1 Axes>"
            ],
            "image/png": "[encoded data removed]"
          },
          "metadata": {
            "needs_background": "light"
          }
        }
      ],
      "source": [
        "# dictionary of model names and model objects\n",
        "def get_models():\n",
        "\tmodels = list()\n",
        "\tmodels.append(LinearRegression())\n",
        "\tmodels.append(HuberRegressor())\n",
        "\tmodels.append(RANSACRegressor())\n",
        "\tmodels.append(TheilSenRegressor())\n",
        "\treturn models\n",
        " \n",
        "# plot the dataset and the model's line of best fit\n",
        "def plot_best_fit(X, y, xaxis, model):\n",
        "\t# fit the model on all data\n",
        "\tmodel.fit(X, y)\n",
        "\t# calculate outputs for grid across the domain\n",
        "\tyaxis = model.predict(xaxis.reshape((len(xaxis), 1)))\n",
        "\t# plot the line of best fit\n",
        "\tpyplot.plot(xaxis, yaxis, label=type(model).__name__)\n",
        " \n",
        "\n",
        "# define a uniform grid across the input domain\n",
        "xaxis = arange(X.min(), X.max(), 0.01)\n",
        "for model in get_models():\n",
        "\t# plot the line of best fit\n",
        "\tplot_best_fit(X, y, xaxis, model)\n",
        "# plot the dataset\n",
        "pyplot.scatter(X, y, s = 10)\n",
        "# show the plot\n",
        "pyplot.title('Robust Regression')\n",
        "pyplot.legend()\n",
        "pyplot.show()"
      ]
    },
    {
      "cell_type": "code",
      "execution_count": null,
      "metadata": {
        "colab": {
          "base_uri": "https://localhost:8080/"
        },
        "id": "Aqz3R-XxB-Lx",
        "outputId": "b1562cd0-c16b-4380-c801-ed47a9dcaac6"
      },
      "outputs": [
        {
          "output_type": "stream",
          "name": "stdout",
          "text": [
            "Linear regression slope: [-0.45936763]\n",
            "Linear regression alpha: [-2.17690567]\n",
            "Huber regression slope [-0.47980934]\n",
            "Huber regression alpha: [-2.08416116]\n",
            "RANSAC regression slope: [-0.60878175]\n",
            "RANSAC regression alpha: [-1.64262479]\n",
            "Theil Sen regression slope: [-0.47036204]\n",
            "Theil Sen regression alpha: [-2.12602191]\n"
          ]
        }
      ],
      "source": [
        "# Compare alphas\n",
        "\n",
        "model = LinearRegression()\n",
        "\n",
        "reg = model.fit(X, y)\n",
        "\n",
        "lr_slope = reg.coef_\n",
        "lr_intercept = reg.intercept_\n",
        "lr_alpha = 1/lr_slope\n",
        "lr_beta = np.exp(-lr_intercept/lr_slope)\n",
        "\n",
        "print(\"Linear regression slope:\", lr_slope)\n",
        "print(\"Linear regression alpha:\", lr_alpha)\n",
        "\n",
        "model = HuberRegressor()\n",
        "\n",
        "reg = model.fit(X, y)\n",
        "\n",
        "H_slope = reg.coef_\n",
        "H_intercept = reg.intercept_\n",
        "H_alpha = 1/H_slope\n",
        "H_beta = np.exp(-H_intercept/H_slope)\n",
        "\n",
        "print(\"Huber regression slope\", H_slope)\n",
        "print(\"Huber regression alpha:\", H_alpha)\n",
        "\n",
        "model = RANSACRegressor()\n",
        "\n",
        "reg = model.fit(X, y)\n",
        "\n",
        "R_slope = model.estimator_.coef_\n",
        "R_intercept = model.estimator_.intercept_\n",
        "R_alpha = 1/R_slope\n",
        "R_beta = np.exp(-R_intercept/R_slope)\n",
        "\n",
        "print(\"RANSAC regression slope:\", R_slope)\n",
        "print(\"RANSAC regression alpha:\", R_alpha)\n",
        "\n",
        "\n",
        "model = TheilSenRegressor()\n",
        "\n",
        "reg = model.fit(X, y)\n",
        "\n",
        "TS_slope = reg.coef_\n",
        "TS_intercept = reg.intercept_\n",
        "TS_alpha = 1/TS_slope\n",
        "TS_beta = np.exp(-TS_intercept/TS_slope)\n",
        "\n",
        "print(\"Theil Sen regression slope:\", TS_slope)\n",
        "print(\"Theil Sen regression alpha:\", TS_alpha)\n"
      ]
    },
    {
      "cell_type": "code",
      "execution_count": null,
      "metadata": {
        "id": "0O0GPGxqB-pU"
      },
      "outputs": [],
      "source": []
    },
    {
      "cell_type": "markdown",
      "metadata": {
        "id": "10JGriT5EsC0"
      },
      "source": [
        "# **Publication plots**"
      ]
    },
    {
      "cell_type": "code",
      "execution_count": null,
      "metadata": {
        "id": "rjCvxOOZC_e-"
      },
      "outputs": [],
      "source": [
        "import numpy as np\n",
        "import pandas as pd\n",
        "import matplotlib.pyplot as plt\n",
        "import seaborn as sns\n",
        "sns.set_theme(style='darkgrid')\n",
        "sns.set(font_scale=1.3)\n",
        "sns.set(rc={'figure.figsize':(7, 5)})\n",
        "fontsize = 14"
      ]
    },
    {
      "cell_type": "markdown",
      "metadata": {
        "id": "wid6HEeRxgWa"
      },
      "source": [
        "## Peak irradiance (flare class) histogram\n",
        "\n"
      ]
    },
    {
      "cell_type": "code",
      "execution_count": null,
      "metadata": {
        "colab": {
          "base_uri": "https://localhost:8080/",
          "height": 381
        },
        "id": "jhoKwK79ExxI",
        "outputId": "a935830d-3fb5-4cf6-84f6-2c551dcb6da2"
      },
      "outputs": [
        {
          "output_type": "display_data",
          "data": {
            "text/plain": [
              "<Figure size 504x360 with 2 Axes>"
            ],
            "image/png": "[encoded data removed]"
          },
          "metadata": {}
        }
      ],
      "source": [
        "num_flares_per_year_per_binwidth_shifted = np.roll(num_flares_per_year_per_binwidth, 1)\n",
        "num_flares_per_year_per_binwidth_shifted[0] = num_flares_per_year_per_binwidth[0] - (num_flares_per_year_per_binwidth[1] - num_flares_per_year_per_binwidth[0])\n",
        "\n",
        "fig, ax1 = plt.subplots(figsize=(7,5))\n",
        "ax1.hlines(num_flares_per_year_per_binwidth, bin_edges[0:-1], bin_edges[1:], linewidth=3)\n",
        "plt.vlines(bin_edges[0:-1], num_flares_per_year_per_binwidth, num_flares_per_year_per_binwidth_shifted, linewidth=3)\n",
        "plt.xscale('log')\n",
        "plt.yscale('log')\n",
        "plt.xlabel('Peak Irradiance [W m${^-2}$]')\n",
        "plt.ylabel('Flare Frequency [# year$^{-1}$ (W m$^{-2}$)$^{-1}$]')\n",
        "ax1.minorticks_off()\n",
        "\n",
        "new_tick_locations = np.array([1e-7, 1e-6, 1e-5, 1e-4])\n",
        "ax2 = ax1.twiny()\n",
        "ax2.set_xscale('log')\n",
        "ax2.set_xlim(ax1.get_xlim())\n",
        "ax2.set_xticks(new_tick_locations)\n",
        "ax2.set_xticklabels(['B', 'C', 'M', 'X'])\n",
        "ax2.set_xlabel('Flare Class')\n",
        "ax2.minorticks_off()\n",
        "\n",
        "plt.savefig('flare_class_histogram.pdf', format='pdf', dpi=300, bbox_inches='tight', pad_inches=0.2)\n",
        "plt.show()\n"
      ]
    },
    {
      "cell_type": "markdown",
      "metadata": {
        "id": "JjMwY5PjCyRR"
      },
      "source": [
        "## FFD"
      ]
    },
    {
      "cell_type": "code",
      "execution_count": null,
      "metadata": {
        "id": "YQpHHPU3grEd"
      },
      "outputs": [],
      "source": [
        "def latex_float(f):\n",
        "    float_str = \"{0:.2g}\".format(f)\n",
        "    if \"e\" in float_str:\n",
        "        base, exponent = float_str.split(\"e\")\n",
        "        return r\"${0}0^{{{1}}}$\".format(base, int(exponent))\n",
        "    else:\n",
        "        return float_str"
      ]
    },
    {
      "cell_type": "code",
      "execution_count": null,
      "metadata": {
        "colab": {
          "base_uri": "https://localhost:8080/",
          "height": 348
        },
        "id": "LZjvpo731ifu",
        "outputId": "4750830d-b296-4472-8201-a336d384c361"
      },
      "outputs": [
        {
          "output_type": "display_data",
          "data": {
            "text/plain": [
              "<Figure size 504x360 with 1 Axes>"
            ],
            "image/png": "[encoded data removed]"
          },
          "metadata": {}
        }
      ],
      "source": [
        "## Plot the data with the best fit line on a log-log scale and inlcude a legend\n",
        "fig, ax1 = plt.subplots(figsize=(7,5))\n",
        "ax1.errorbar(x_mcmc, y_mcmc, yerr=yerr_mcmc, fmt='ko', label='C-PhLARE data')\n",
        "ax1.plot(x_mcmc, y_model_mcmc, color='r', label=r'fit (A={:.2E}, $\\alpha$={:0.2f}$\\pm${:0.2f})'.format(beta_mcmc, -alpha_mcmc, error_approx_mcmc))\n",
        "\n",
        "#plt.xscale('log')\n",
        "#plt.yscale('log')\n",
        "plt.ylabel('log$_{10}$ Frequency [# year$^{-1}$ erg$^{-1}$]', fontsize=fontsize)\n",
        "plt.xlabel('log$_{10}$ Total Energy [ergs]', fontsize=fontsize)\n",
        "plt.xticks(fontsize=fontsize)\n",
        "plt.yticks(fontsize=fontsize)\n",
        "\n",
        "plt.legend(fontsize=fontsize-2) \n",
        "\n",
        "plt.savefig('ffd.pdf', format='pdf', dpi=300, bbox_inches='tight', pad_inches=0.2)\n",
        "plt.show()"
      ]
    },
    {
      "cell_type": "markdown",
      "metadata": {
        "id": "Aor7IxvOAn-e"
      },
      "source": [
        "## Peak irradiance vs energy"
      ]
    },
    {
      "cell_type": "code",
      "execution_count": null,
      "metadata": {
        "colab": {
          "base_uri": "https://localhost:8080/",
          "height": 366
        },
        "id": "75nW7sruJo9a",
        "outputId": "9345da24-ba39-4e0e-f200-f1a0ee07727f"
      },
      "outputs": [
        {
          "output_type": "stream",
          "name": "stdout",
          "text": [
            "Peak vs Energy slope: 0.9730949865316758  +-  0.04208676908760155\n"
          ]
        },
        {
          "output_type": "display_data",
          "data": {
            "text/plain": [
              "<Figure size 504x360 with 1 Axes>"
            ],
            "image/png": "[encoded data removed]"
          },
          "metadata": {}
        }
      ],
      "source": [
        "print(\"Peak vs Energy slope:\", lr_IEalpha, \" +- \", lr_IEstd_err)\n",
        "best_fit_line = lr_IEbeta*(CPhLARE_data.iloc[:,1]**lr_IEalpha)\n",
        "\n",
        "fig, ax1 = plt.subplots(figsize=(7,5))\n",
        "ax1.plot(CPhLARE_data.iloc[:,1], CPhLARE_data.iloc[:,0], '.', label='C-PhLARE data')\n",
        "ax1.plot(CPhLARE_data.iloc[:,1], best_fit_line, label=r'fit (A={:.2E}, $\\alpha$={:0.2f}$\\pm${:0.2f})'.format(lr_IEbeta, lr_IEalpha, lr_IEstd_err))\n",
        "\n",
        "plt.xscale('log')\n",
        "plt.yscale('log')\n",
        "plt.ylabel('Peak Irradiance [W m$^{-2}$]', fontsize=fontsize)\n",
        "plt.xlabel('Total Energy [ergs]', fontsize=fontsize)\n",
        "plt.xticks(fontsize=fontsize)\n",
        "plt.yticks(fontsize=fontsize)\n",
        "\n",
        "plt.savefig('peak_irradiance_vs_energy.pdf', format='pdf', dpi=300, bbox_inches='tight', pad_inches=0.2)\n",
        "plt.show()"
      ]
    },
    {
      "cell_type": "markdown",
      "metadata": {
        "id": "MxkgEOO6gtwa"
      },
      "source": [
        "## Example of single flare"
      ]
    },
    {
      "cell_type": "code",
      "execution_count": null,
      "metadata": {
        "colab": {
          "base_uri": "https://localhost:8080/",
          "height": 455
        },
        "id": "IDn621cOgwTP",
        "outputId": "141d33b4-b3d2-4035-f117-ae6f3d91d4cd"
      },
      "outputs": [
        {
          "data": {
            "text/html": [
              "\n",
              "  <div id=\"df-63b8b1d0-4a08-4530-809a-6aea90f31ad1\">\n",
              "    <div class=\"colab-df-container\">\n",
              "      <div>\n",
              "<style scoped>\n",
              "    .dataframe tbody tr th:only-of-type {\n",
              "        vertical-align: middle;\n",
              "    }\n",
              "\n",
              "    .dataframe tbody tr th {\n",
              "        vertical-align: top;\n",
              "    }\n",
              "\n",
              "    .dataframe thead th {\n",
              "        text-align: right;\n",
              "    }\n",
              "</style>\n",
              "<table border=\"1\" class=\"dataframe\">\n",
              "  <thead>\n",
              "    <tr style=\"text-align: right;\">\n",
              "      <th></th>\n",
              "      <th>longwave (µW/m^2)</th>\n",
              "    </tr>\n",
              "    <tr>\n",
              "      <th>time since start [hours]</th>\n",
              "      <th></th>\n",
              "    </tr>\n",
              "  </thead>\n",
              "  <tbody>\n",
              "    <tr>\n",
              "      <th>0.000000</th>\n",
              "      <td>1.465557</td>\n",
              "    </tr>\n",
              "    <tr>\n",
              "      <th>0.016667</th>\n",
              "      <td>1.444533</td>\n",
              "    </tr>\n",
              "    <tr>\n",
              "      <th>0.033333</th>\n",
              "      <td>1.415895</td>\n",
              "    </tr>\n",
              "    <tr>\n",
              "      <th>0.050000</th>\n",
              "      <td>1.396125</td>\n",
              "    </tr>\n",
              "    <tr>\n",
              "      <th>0.066667</th>\n",
              "      <td>1.403782</td>\n",
              "    </tr>\n",
              "    <tr>\n",
              "      <th>...</th>\n",
              "      <td>...</td>\n",
              "    </tr>\n",
              "    <tr>\n",
              "      <th>4.583333</th>\n",
              "      <td>0.536347</td>\n",
              "    </tr>\n",
              "    <tr>\n",
              "      <th>4.600000</th>\n",
              "      <td>0.516227</td>\n",
              "    </tr>\n",
              "    <tr>\n",
              "      <th>4.616667</th>\n",
              "      <td>0.509219</td>\n",
              "    </tr>\n",
              "    <tr>\n",
              "      <th>4.633333</th>\n",
              "      <td>0.514518</td>\n",
              "    </tr>\n",
              "    <tr>\n",
              "      <th>4.650000</th>\n",
              "      <td>0.516097</td>\n",
              "    </tr>\n",
              "  </tbody>\n",
              "</table>\n",
              "<p>280 rows × 1 columns</p>\n",
              "</div>\n",
              "      <button class=\"colab-df-convert\" onclick=\"convertToInteractive('df-63b8b1d0-4a08-4530-809a-6aea90f31ad1')\"\n",
              "              title=\"Convert this dataframe to an interactive table.\"\n",
              "              style=\"display:none;\">\n",
              "        \n",
              "  <svg xmlns=\"http://www.w3.org/2000/svg\" height=\"24px\"viewBox=\"0 0 24 24\"\n",
              "       width=\"24px\">\n",
              "    <path d=\"M0 0h24v24H0V0z\" fill=\"none\"/>\n",
              "    <path d=\"M18.56 5.44l.94 2.06.94-2.06 2.06-.94-2.06-.94-.94-2.06-.94 2.06-2.06.94zm-11 1L8.5 8.5l.94-2.06 2.06-.94-2.06-.94L8.5 2.5l-.94 2.06-2.06.94zm10 10l.94 2.06.94-2.06 2.06-.94-2.06-.94-.94-2.06-.94 2.06-2.06.94z\"/><path d=\"M17.41 7.96l-1.37-1.37c-.4-.4-.92-.59-1.43-.59-.52 0-1.04.2-1.43.59L10.3 9.45l-7.72 7.72c-.78.78-.78 2.05 0 2.83L4 21.41c.39.39.9.59 1.41.59.51 0 1.02-.2 1.41-.59l7.78-7.78 2.81-2.81c.8-.78.8-2.07 0-2.86zM5.41 20L4 18.59l7.72-7.72 1.47 1.35L5.41 20z\"/>\n",
              "  </svg>\n",
              "      </button>\n",
              "      \n",
              "  <style>\n",
              "    .colab-df-container {\n",
              "      display:flex;\n",
              "      flex-wrap:wrap;\n",
              "      gap: 12px;\n",
              "    }\n",
              "\n",
              "    .colab-df-convert {\n",
              "      background-color: #E8F0FE;\n",
              "      border: none;\n",
              "      border-radius: 50%;\n",
              "      cursor: pointer;\n",
              "      display: none;\n",
              "      fill: #1967D2;\n",
              "      height: 32px;\n",
              "      padding: 0 0 0 0;\n",
              "      width: 32px;\n",
              "    }\n",
              "\n",
              "    .colab-df-convert:hover {\n",
              "      background-color: #E2EBFA;\n",
              "      box-shadow: 0px 1px 2px rgba(60, 64, 67, 0.3), 0px 1px 3px 1px rgba(60, 64, 67, 0.15);\n",
              "      fill: #174EA6;\n",
              "    }\n",
              "\n",
              "    [theme=dark] .colab-df-convert {\n",
              "      background-color: #3B4455;\n",
              "      fill: #D2E3FC;\n",
              "    }\n",
              "\n",
              "    [theme=dark] .colab-df-convert:hover {\n",
              "      background-color: #434B5C;\n",
              "      box-shadow: 0px 1px 3px 1px rgba(0, 0, 0, 0.15);\n",
              "      filter: drop-shadow(0px 1px 2px rgba(0, 0, 0, 0.3));\n",
              "      fill: #FFFFFF;\n",
              "    }\n",
              "  </style>\n",
              "\n",
              "      <script>\n",
              "        const buttonEl =\n",
              "          document.querySelector('#df-63b8b1d0-4a08-4530-809a-6aea90f31ad1 button.colab-df-convert');\n",
              "        buttonEl.style.display =\n",
              "          google.colab.kernel.accessAllowed ? 'block' : 'none';\n",
              "\n",
              "        async function convertToInteractive(key) {\n",
              "          const element = document.querySelector('#df-63b8b1d0-4a08-4530-809a-6aea90f31ad1');\n",
              "          const dataTable =\n",
              "            await google.colab.kernel.invokeFunction('convertToInteractive',\n",
              "                                                     [key], {});\n",
              "          if (!dataTable) return;\n",
              "\n",
              "          const docLinkHtml = 'Like what you see? Visit the ' +\n",
              "            '<a target=\"_blank\" href=https://colab.research.google.com/notebooks/data_table.ipynb>data table notebook</a>'\n",
              "            + ' to learn more about interactive tables.';\n",
              "          element.innerHTML = '';\n",
              "          dataTable['output_type'] = 'display_data';\n",
              "          await google.colab.output.renderOutput(dataTable, element);\n",
              "          const docLink = document.createElement('div');\n",
              "          docLink.innerHTML = docLinkHtml;\n",
              "          element.appendChild(docLink);\n",
              "        }\n",
              "      </script>\n",
              "    </div>\n",
              "  </div>\n",
              "  "
            ],
            "text/plain": [
              "                          longwave (µW/m^2)\n",
              "time since start [hours]                   \n",
              "0.000000                           1.465557\n",
              "0.016667                           1.444533\n",
              "0.033333                           1.415895\n",
              "0.050000                           1.396125\n",
              "0.066667                           1.403782\n",
              "...                                     ...\n",
              "4.583333                           0.536347\n",
              "4.600000                           0.516227\n",
              "4.616667                           0.509219\n",
              "4.633333                           0.514518\n",
              "4.650000                           0.516097\n",
              "\n",
              "[280 rows x 1 columns]"
            ]
          },
          "execution_count": 12,
          "metadata": {},
          "output_type": "execute_result"
        }
      ],
      "source": [
        "df = pd.read_csv('single_flare_example_data.csv')\n",
        "df = df.iloc[320:600]\n",
        "df['longwave (W/m^2)'] *= 1e6\n",
        "df.rename(columns={'longwave (W/m^2)': 'longwave (µW/m^2)'}, inplace=True)\n",
        "df.rename(columns={'time (seconds since 2000-01-01 12:00:00)': 't'}, inplace=True)\n",
        "df['t'] = (df['t'] - df['t'].iloc[0]) / 3600.\n",
        "df.rename(columns={'t': 'time since start [hours]'}, inplace=True)\n",
        "df.set_index('time since start [hours]', inplace=True)\n",
        "df"
      ]
    },
    {
      "cell_type": "code",
      "execution_count": null,
      "metadata": {
        "colab": {
          "base_uri": "https://localhost:8080/",
          "height": 345
        },
        "id": "MrAdrpCphWD5",
        "outputId": "67942f57-ce8e-4d47-fedc-5d8aa544483f"
      },
      "outputs": [
        {
          "data": {
            "image/png": "[encoded data removed]",
            "text/plain": [
              "<Figure size 504x360 with 1 Axes>"
            ]
          },
          "metadata": {},
          "output_type": "display_data"
        }
      ],
      "source": [
        "fig, ax1 = plt.subplots(figsize=(7,5))\n",
        "ax1.plot(df)\n",
        "plt.ylabel('Irradiance [µW m$^{-2}$]', fontsize=fontsize)\n",
        "plt.xlabel('Time since start [hours]', fontsize=fontsize)\n",
        "plt.xticks(fontsize=fontsize)\n",
        "plt.yticks(fontsize=fontsize)\n",
        "x0, x1 = ax1.get_xlim()\n",
        "plt.axhline(y=0.13e-5, linestyle='dashed', color='dimgrey')\n",
        "plt.axvline(x=0.8, linestyle='dashed', color='tomato', alpha=0.4)\n",
        "plt.axvline(x=1.8, linestyle='dashed', color='tomato', alpha=0.4)\n",
        "\n",
        "plt.savefig('example_light_curve.pdf', format='pdf', dpi=300, bbox_inches='tight', pad_inches=0.2)\n"
      ]
    },
    {
      "cell_type": "code",
      "execution_count": null,
      "metadata": {
        "colab": {
          "background_save": true
        },
        "id": "eksSObkSi__w"
      },
      "outputs": [],
      "source": []
    }
  ],
  "metadata": {
    "colab": {
      "collapsed_sections": [
        "5jXIEt_4Bved",
        "wid6HEeRxgWa",
        "JjMwY5PjCyRR",
        "MxkgEOO6gtwa"
      ],
      "provenance": [],
      "toc_visible": true
    },
    "kernelspec": {
      "display_name": "Python 3",
      "name": "python3"
    }
  },
  "nbformat": 4,
  "nbformat_minor": 0
}